{
 "cells": [
  {
   "cell_type": "code",
   "execution_count": 1,
   "metadata": {},
   "outputs": [],
   "source": [
    "import pandas as pd\n",
    "import numpy as np"
   ]
  },
  {
   "cell_type": "code",
   "execution_count": 2,
   "metadata": {},
   "outputs": [],
   "source": [
    "file_path = ('Resources/sample_citi_201901.csv')\n",
    "citi_01_df = pd.read_csv(file_path)"
   ]
  },
  {
   "cell_type": "code",
   "execution_count": 3,
   "metadata": {},
   "outputs": [],
   "source": [
    "file_path = ('Resources/sample_citi_201902.csv')\n",
    "citi_02_df = pd.read_csv(file_path)"
   ]
  },
  {
   "cell_type": "code",
   "execution_count": 4,
   "metadata": {},
   "outputs": [],
   "source": [
    "file_path = ('Resources/sample_citi_201903.csv')\n",
    "citi_03_df = pd.read_csv(file_path)"
   ]
  },
  {
   "cell_type": "code",
   "execution_count": 5,
   "metadata": {},
   "outputs": [],
   "source": [
    "file_path = ('Resources/sample_citi_201904.csv')\n",
    "citi_04_df = pd.read_csv(file_path)"
   ]
  },
  {
   "cell_type": "code",
   "execution_count": 6,
   "metadata": {},
   "outputs": [],
   "source": [
    "file_path = ('Resources/sample_citi_201905.csv')\n",
    "citi_05_df = pd.read_csv(file_path)"
   ]
  },
  {
   "cell_type": "code",
   "execution_count": 7,
   "metadata": {},
   "outputs": [],
   "source": [
    "file_path = ('Resources/sample_citi_201906.csv')\n",
    "citi_06_df = pd.read_csv(file_path)"
   ]
  },
  {
   "cell_type": "code",
   "execution_count": 8,
   "metadata": {},
   "outputs": [],
   "source": [
    "file_path = ('Resources/sample_citi_201907.csv')\n",
    "citi_07_df = pd.read_csv(file_path)"
   ]
  },
  {
   "cell_type": "code",
   "execution_count": 9,
   "metadata": {},
   "outputs": [],
   "source": [
    "file_path = ('Resources/sample_citi_201908.csv')\n",
    "citi_08_df = pd.read_csv(file_path)"
   ]
  },
  {
   "cell_type": "code",
   "execution_count": 10,
   "metadata": {},
   "outputs": [],
   "source": [
    "file_path = ('Resources/sample_citi_201909.csv')\n",
    "citi_09_df = pd.read_csv(file_path)"
   ]
  },
  {
   "cell_type": "code",
   "execution_count": 11,
   "metadata": {},
   "outputs": [],
   "source": [
    "file_path = ('Resources/sample_citi_201910.csv')\n",
    "citi_10_df = pd.read_csv(file_path)"
   ]
  },
  {
   "cell_type": "code",
   "execution_count": 12,
   "metadata": {},
   "outputs": [],
   "source": [
    "file_path = ('Resources/sample_citi_201911.csv')\n",
    "citi_11_df = pd.read_csv(file_path)"
   ]
  },
  {
   "cell_type": "code",
   "execution_count": 13,
   "metadata": {},
   "outputs": [],
   "source": [
    "file_path = ('Resources/sample_citi_201912.csv')\n",
    "citi_12_df = pd.read_csv(file_path)"
   ]
  },
  {
   "cell_type": "code",
   "execution_count": 14,
   "metadata": {},
   "outputs": [],
   "source": [
    "citi_1902_df = citi_01_df.append(citi_02_df, ignore_index = True) "
   ]
  },
  {
   "cell_type": "code",
   "execution_count": 15,
   "metadata": {},
   "outputs": [],
   "source": [
    "citi_1903_df = citi_1902_df.append(citi_03_df, ignore_index = True)"
   ]
  },
  {
   "cell_type": "code",
   "execution_count": 16,
   "metadata": {},
   "outputs": [],
   "source": [
    "citi_1904_df = citi_1903_df.append(citi_04_df, ignore_index = True)"
   ]
  },
  {
   "cell_type": "code",
   "execution_count": 17,
   "metadata": {},
   "outputs": [],
   "source": [
    "citi_1905_df = citi_1904_df.append(citi_05_df, ignore_index = True)"
   ]
  },
  {
   "cell_type": "code",
   "execution_count": 18,
   "metadata": {},
   "outputs": [],
   "source": [
    "citi_1906_df = citi_1905_df.append(citi_06_df, ignore_index = True)"
   ]
  },
  {
   "cell_type": "code",
   "execution_count": 19,
   "metadata": {},
   "outputs": [],
   "source": [
    "citi_1907_df = citi_1906_df.append(citi_07_df, ignore_index = True)"
   ]
  },
  {
   "cell_type": "code",
   "execution_count": 20,
   "metadata": {},
   "outputs": [],
   "source": [
    "citi_1908_df = citi_1907_df.append(citi_08_df, ignore_index = True)"
   ]
  },
  {
   "cell_type": "code",
   "execution_count": 21,
   "metadata": {},
   "outputs": [],
   "source": [
    "citi_1909_df = citi_1908_df.append(citi_09_df, ignore_index = True)"
   ]
  },
  {
   "cell_type": "code",
   "execution_count": 22,
   "metadata": {},
   "outputs": [],
   "source": [
    "citi_1910_df = citi_1909_df.append(citi_10_df, ignore_index = True)"
   ]
  },
  {
   "cell_type": "code",
   "execution_count": 23,
   "metadata": {},
   "outputs": [],
   "source": [
    "citi_1911_df = citi_1910_df.append(citi_11_df, ignore_index = True)"
   ]
  },
  {
   "cell_type": "code",
   "execution_count": 24,
   "metadata": {},
   "outputs": [],
   "source": [
    "citi_2019_df = citi_1911_df.append(citi_12_df, ignore_index = True)"
   ]
  },
  {
   "cell_type": "code",
   "execution_count": 25,
   "metadata": {},
   "outputs": [],
   "source": [
    "citi_2019_df['Random_integer'] = np.random.randint(0,100000,size=(len(citi_2019_df),1))"
   ]
  },
  {
   "cell_type": "code",
   "execution_count": 26,
   "metadata": {},
   "outputs": [],
   "source": [
    "# citi_2019_df['mod3'] = citi_2019_df['Random_integer'] % 3"
   ]
  },
  {
   "cell_type": "code",
   "execution_count": 27,
   "metadata": {},
   "outputs": [],
   "source": [
    "# citi_2019_df['mod3'].value_counts()"
   ]
  },
  {
   "cell_type": "code",
   "execution_count": 28,
   "metadata": {},
   "outputs": [],
   "source": [
    "citi_2019_df['mod2'] = citi_2019_df['Random_integer'] % 2"
   ]
  },
  {
   "cell_type": "code",
   "execution_count": 29,
   "metadata": {},
   "outputs": [
    {
     "data": {
      "text/plain": [
       "1    1047629\n",
       "0    1046491\n",
       "Name: mod2, dtype: int64"
      ]
     },
     "execution_count": 29,
     "metadata": {},
     "output_type": "execute_result"
    }
   ],
   "source": [
    "citi_2019_df[\"mod2\"].value_counts()"
   ]
  },
  {
   "cell_type": "code",
   "execution_count": 30,
   "metadata": {},
   "outputs": [],
   "source": [
    "citi_2019_df['start station id'] = citi_2019_df['start station id'].apply(str)\n",
    "citi_2019_df['end station id'] = citi_2019_df['end station id'].apply(str)\n",
    "citi_2019_df['bikeid'] = citi_2019_df['bikeid'].apply(str)"
   ]
  },
  {
   "cell_type": "code",
   "execution_count": 31,
   "metadata": {},
   "outputs": [],
   "source": [
    "citi_2019_df['startride'] = pd.to_datetime(citi_2019_df['starttime'])"
   ]
  },
  {
   "cell_type": "code",
   "execution_count": 32,
   "metadata": {},
   "outputs": [],
   "source": [
    "citi_2019_df['stopride'] = pd.to_datetime(citi_2019_df['stoptime'])"
   ]
  },
  {
   "cell_type": "code",
   "execution_count": 33,
   "metadata": {},
   "outputs": [
    {
     "data": {
      "text/html": [
       "<div>\n",
       "<style scoped>\n",
       "    .dataframe tbody tr th:only-of-type {\n",
       "        vertical-align: middle;\n",
       "    }\n",
       "\n",
       "    .dataframe tbody tr th {\n",
       "        vertical-align: top;\n",
       "    }\n",
       "\n",
       "    .dataframe thead th {\n",
       "        text-align: right;\n",
       "    }\n",
       "</style>\n",
       "<table border=\"1\" class=\"dataframe\">\n",
       "  <thead>\n",
       "    <tr style=\"text-align: right;\">\n",
       "      <th></th>\n",
       "      <th>tripduration</th>\n",
       "      <th>start station latitude</th>\n",
       "      <th>start station longitude</th>\n",
       "      <th>end station latitude</th>\n",
       "      <th>end station longitude</th>\n",
       "      <th>birth year</th>\n",
       "      <th>gender</th>\n",
       "      <th>Random_integer</th>\n",
       "      <th>mod10</th>\n",
       "      <th>mod2</th>\n",
       "    </tr>\n",
       "  </thead>\n",
       "  <tbody>\n",
       "    <tr>\n",
       "      <th>count</th>\n",
       "      <td>2.094120e+06</td>\n",
       "      <td>2.094120e+06</td>\n",
       "      <td>2.094120e+06</td>\n",
       "      <td>2.094120e+06</td>\n",
       "      <td>2.094120e+06</td>\n",
       "      <td>2.094120e+06</td>\n",
       "      <td>2.094120e+06</td>\n",
       "      <td>2.094120e+06</td>\n",
       "      <td>2094120.0</td>\n",
       "      <td>2.094120e+06</td>\n",
       "    </tr>\n",
       "    <tr>\n",
       "      <th>mean</th>\n",
       "      <td>9.743421e+02</td>\n",
       "      <td>4.073704e+01</td>\n",
       "      <td>-7.398321e+01</td>\n",
       "      <td>4.073674e+01</td>\n",
       "      <td>-7.398341e+01</td>\n",
       "      <td>1.980218e+03</td>\n",
       "      <td>1.164702e+00</td>\n",
       "      <td>4.999667e+04</td>\n",
       "      <td>7.0</td>\n",
       "      <td>5.002717e-01</td>\n",
       "    </tr>\n",
       "    <tr>\n",
       "      <th>std</th>\n",
       "      <td>1.049799e+04</td>\n",
       "      <td>3.023487e-02</td>\n",
       "      <td>2.150675e-02</td>\n",
       "      <td>3.008294e-02</td>\n",
       "      <td>2.153931e-02</td>\n",
       "      <td>1.210853e+01</td>\n",
       "      <td>5.373669e-01</td>\n",
       "      <td>2.885426e+04</td>\n",
       "      <td>0.0</td>\n",
       "      <td>5.000000e-01</td>\n",
       "    </tr>\n",
       "    <tr>\n",
       "      <th>min</th>\n",
       "      <td>6.100000e+01</td>\n",
       "      <td>4.065540e+01</td>\n",
       "      <td>-7.408364e+01</td>\n",
       "      <td>4.065540e+01</td>\n",
       "      <td>-7.408364e+01</td>\n",
       "      <td>1.857000e+03</td>\n",
       "      <td>0.000000e+00</td>\n",
       "      <td>0.000000e+00</td>\n",
       "      <td>7.0</td>\n",
       "      <td>0.000000e+00</td>\n",
       "    </tr>\n",
       "    <tr>\n",
       "      <th>25%</th>\n",
       "      <td>3.580000e+02</td>\n",
       "      <td>4.071755e+01</td>\n",
       "      <td>-7.399601e+01</td>\n",
       "      <td>4.071755e+01</td>\n",
       "      <td>-7.399662e+01</td>\n",
       "      <td>1.970000e+03</td>\n",
       "      <td>1.000000e+00</td>\n",
       "      <td>2.501300e+04</td>\n",
       "      <td>7.0</td>\n",
       "      <td>0.000000e+00</td>\n",
       "    </tr>\n",
       "    <tr>\n",
       "      <th>50%</th>\n",
       "      <td>6.080000e+02</td>\n",
       "      <td>4.073705e+01</td>\n",
       "      <td>-7.398584e+01</td>\n",
       "      <td>4.073653e+01</td>\n",
       "      <td>-7.398627e+01</td>\n",
       "      <td>1.983000e+03</td>\n",
       "      <td>1.000000e+00</td>\n",
       "      <td>4.997900e+04</td>\n",
       "      <td>7.0</td>\n",
       "      <td>1.000000e+00</td>\n",
       "    </tr>\n",
       "    <tr>\n",
       "      <th>75%</th>\n",
       "      <td>1.070000e+03</td>\n",
       "      <td>4.075715e+01</td>\n",
       "      <td>-7.397188e+01</td>\n",
       "      <td>4.075660e+01</td>\n",
       "      <td>-7.397208e+01</td>\n",
       "      <td>1.990000e+03</td>\n",
       "      <td>1.000000e+00</td>\n",
       "      <td>7.500100e+04</td>\n",
       "      <td>7.0</td>\n",
       "      <td>1.000000e+00</td>\n",
       "    </tr>\n",
       "    <tr>\n",
       "      <th>max</th>\n",
       "      <td>3.100420e+06</td>\n",
       "      <td>4.086900e+01</td>\n",
       "      <td>-7.387800e+01</td>\n",
       "      <td>4.086600e+01</td>\n",
       "      <td>-7.387800e+01</td>\n",
       "      <td>2.003000e+03</td>\n",
       "      <td>2.000000e+00</td>\n",
       "      <td>9.999900e+04</td>\n",
       "      <td>7.0</td>\n",
       "      <td>1.000000e+00</td>\n",
       "    </tr>\n",
       "  </tbody>\n",
       "</table>\n",
       "</div>"
      ],
      "text/plain": [
       "       tripduration  start station latitude  start station longitude  \\\n",
       "count  2.094120e+06            2.094120e+06             2.094120e+06   \n",
       "mean   9.743421e+02            4.073704e+01            -7.398321e+01   \n",
       "std    1.049799e+04            3.023487e-02             2.150675e-02   \n",
       "min    6.100000e+01            4.065540e+01            -7.408364e+01   \n",
       "25%    3.580000e+02            4.071755e+01            -7.399601e+01   \n",
       "50%    6.080000e+02            4.073705e+01            -7.398584e+01   \n",
       "75%    1.070000e+03            4.075715e+01            -7.397188e+01   \n",
       "max    3.100420e+06            4.086900e+01            -7.387800e+01   \n",
       "\n",
       "       end station latitude  end station longitude    birth year  \\\n",
       "count          2.094120e+06           2.094120e+06  2.094120e+06   \n",
       "mean           4.073674e+01          -7.398341e+01  1.980218e+03   \n",
       "std            3.008294e-02           2.153931e-02  1.210853e+01   \n",
       "min            4.065540e+01          -7.408364e+01  1.857000e+03   \n",
       "25%            4.071755e+01          -7.399662e+01  1.970000e+03   \n",
       "50%            4.073653e+01          -7.398627e+01  1.983000e+03   \n",
       "75%            4.075660e+01          -7.397208e+01  1.990000e+03   \n",
       "max            4.086600e+01          -7.387800e+01  2.003000e+03   \n",
       "\n",
       "             gender  Random_integer      mod10          mod2  \n",
       "count  2.094120e+06    2.094120e+06  2094120.0  2.094120e+06  \n",
       "mean   1.164702e+00    4.999667e+04        7.0  5.002717e-01  \n",
       "std    5.373669e-01    2.885426e+04        0.0  5.000000e-01  \n",
       "min    0.000000e+00    0.000000e+00        7.0  0.000000e+00  \n",
       "25%    1.000000e+00    2.501300e+04        7.0  0.000000e+00  \n",
       "50%    1.000000e+00    4.997900e+04        7.0  1.000000e+00  \n",
       "75%    1.000000e+00    7.500100e+04        7.0  1.000000e+00  \n",
       "max    2.000000e+00    9.999900e+04        7.0  1.000000e+00  "
      ]
     },
     "execution_count": 33,
     "metadata": {},
     "output_type": "execute_result"
    }
   ],
   "source": [
    "citi_2019_df.describe()"
   ]
  },
  {
   "cell_type": "code",
   "execution_count": 34,
   "metadata": {},
   "outputs": [],
   "source": [
    "citi_2019_df['trip_len_hrs'] = citi_2019_df['tripduration'] / 3600\n",
    "    "
   ]
  },
  {
   "cell_type": "code",
   "execution_count": 35,
   "metadata": {},
   "outputs": [],
   "source": [
    "citi_2019_df['trip_year'] = citi_2019_df['starttime'].str[:4]"
   ]
  },
  {
   "cell_type": "code",
   "execution_count": 36,
   "metadata": {},
   "outputs": [],
   "source": [
    "citi_2019_df['trip_year'] = pd.to_numeric(citi_2019_df['trip_year'])"
   ]
  },
  {
   "cell_type": "code",
   "execution_count": 37,
   "metadata": {},
   "outputs": [],
   "source": [
    "citi_2019_df['month'] = citi_2019_df['starttime'].str[5:7]"
   ]
  },
  {
   "cell_type": "code",
   "execution_count": 38,
   "metadata": {},
   "outputs": [],
   "source": [
    "citi_2019_df['month'] = pd.to_numeric(citi_2019_df['month'])"
   ]
  },
  {
   "cell_type": "code",
   "execution_count": 39,
   "metadata": {},
   "outputs": [],
   "source": [
    "def quarter_cat(row):\n",
    "\n",
    "    if row['month'] >= 1 and row['month'] <= 3:\n",
    "        qtr_val = 'Q1'\n",
    "    elif row['month'] >= 4 and row['month'] <= 6:\n",
    "        qtr_val = 'Q2'\n",
    "    elif row['month'] >= 7 and row['month'] <= 9:\n",
    "        qtr_val = 'Q3'\n",
    "    elif row['month'] >= 10 and row['month'] <= 12:\n",
    "        qtr_val = 'Q4'\n",
    "    else:\n",
    "        qtr_val = 'NaN'\n",
    "    return qtr_val"
   ]
  },
  {
   "cell_type": "code",
   "execution_count": 40,
   "metadata": {},
   "outputs": [],
   "source": [
    "citi_2019_df['quarter'] = citi_2019_df.apply(quarter_cat, axis=1)"
   ]
  },
  {
   "cell_type": "code",
   "execution_count": 41,
   "metadata": {},
   "outputs": [],
   "source": [
    "def season_cat(row):\n",
    "\n",
    "    if row['month'] >= 1 and row['month'] <= 2:\n",
    "        season_val = 'winter'\n",
    "    elif row['month'] >= 4 and row['month'] <= 5:\n",
    "        season_val = 'spring'\n",
    "    elif row['month'] >= 7 and row['month'] <= 8:\n",
    "        season_val = 'summer'\n",
    "    elif row['month'] >= 9 and row['month'] <= 10:\n",
    "        season_val = 'fall'\n",
    "    else:\n",
    "        season_val = 'other'\n",
    "    return season_val"
   ]
  },
  {
   "cell_type": "code",
   "execution_count": 42,
   "metadata": {},
   "outputs": [],
   "source": [
    "citi_2019_df['season'] = citi_2019_df.apply(season_cat, axis=1)"
   ]
  },
  {
   "cell_type": "code",
   "execution_count": 43,
   "metadata": {},
   "outputs": [],
   "source": [
    "def sex_label(row):\n",
    "\n",
    "    if row['gender'] == 2:\n",
    "        sex_val = 'female'\n",
    "    elif row['gender'] == 1:\n",
    "        sex_val = 'male'\n",
    "    else:\n",
    "        sex_val = 'na'\n",
    "    return sex_val"
   ]
  },
  {
   "cell_type": "code",
   "execution_count": 44,
   "metadata": {},
   "outputs": [],
   "source": [
    "citi_2019_df['sex'] = citi_2019_df.apply(sex_label, axis=1)"
   ]
  },
  {
   "cell_type": "code",
   "execution_count": 45,
   "metadata": {},
   "outputs": [],
   "source": [
    "\n",
    "def age_calc(row):\n",
    "\n",
    "    if row['birth year'] >= 2000:\n",
    "        age_val = row['trip_year'] - row['birth year'] + row['mod2']\n",
    "    elif row['birth year'] >= 1930:\n",
    "        age_val = (2000 - row['birth year']) + (row['trip_year'] - 2000) + row['mod2']\n",
    "    else:\n",
    "        age_val = 'na'\n",
    "    return age_val"
   ]
  },
  {
   "cell_type": "code",
   "execution_count": 46,
   "metadata": {},
   "outputs": [],
   "source": [
    "citi_2019_df['age'] = citi_2019_df.apply(age_calc, axis=1)"
   ]
  },
  {
   "cell_type": "code",
   "execution_count": 48,
   "metadata": {},
   "outputs": [],
   "source": [
    "citi_2019_df = citi_2019_df.drop('mod2', axis=1)\n",
    "citi_2019_df = citi_2019_df.drop('Random_integer', axis=1)"
   ]
  },
  {
   "cell_type": "code",
   "execution_count": 49,
   "metadata": {},
   "outputs": [],
   "source": [
    "citi_2019_df.to_csv(\"Output/citi_sample_2019.csv\", index=False)"
   ]
  },
  {
   "cell_type": "code",
   "execution_count": null,
   "metadata": {},
   "outputs": [],
   "source": []
  },
  {
   "cell_type": "code",
   "execution_count": null,
   "metadata": {},
   "outputs": [],
   "source": [
    "citi_2019_df.dtypes"
   ]
  },
  {
   "cell_type": "code",
   "execution_count": null,
   "metadata": {},
   "outputs": [],
   "source": [
    "citi_2019_df.head(7)"
   ]
  },
  {
   "cell_type": "code",
   "execution_count": null,
   "metadata": {},
   "outputs": [],
   "source": [
    "citi_2019_df[\"birth year\"].value_counts()"
   ]
  },
  {
   "cell_type": "code",
   "execution_count": null,
   "metadata": {},
   "outputs": [],
   "source": [
    "citi_2019_df[\"gender\"].value_counts()"
   ]
  }
 ],
 "metadata": {
  "kernelspec": {
   "display_name": "Python 3",
   "language": "python",
   "name": "python3"
  },
  "language_info": {
   "codemirror_mode": {
    "name": "ipython",
    "version": 3
   },
   "file_extension": ".py",
   "mimetype": "text/x-python",
   "name": "python",
   "nbconvert_exporter": "python",
   "pygments_lexer": "ipython3",
   "version": "3.7.5"
  }
 },
 "nbformat": 4,
 "nbformat_minor": 2
}
