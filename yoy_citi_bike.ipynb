{
 "cells": [
  {
   "cell_type": "code",
   "execution_count": 69,
   "metadata": {},
   "outputs": [],
   "source": [
    "import pandas as pd\n",
    "import numpy as np"
   ]
  },
  {
   "cell_type": "code",
   "execution_count": 70,
   "metadata": {},
   "outputs": [],
   "source": [
    "file_path = ('Resources/YOY_citi_201607.csv')\n",
    "yoy_1607_df = pd.read_csv(file_path)"
   ]
  },
  {
   "cell_type": "code",
   "execution_count": 71,
   "metadata": {},
   "outputs": [],
   "source": [
    "file_path = ('Resources/YOY_citi_201608.csv')\n",
    "yoy_1608_df = pd.read_csv(file_path)"
   ]
  },
  {
   "cell_type": "code",
   "execution_count": 72,
   "metadata": {},
   "outputs": [],
   "source": [
    "file_path = ('Resources/YOY_citi_201609.csv')\n",
    "yoy_1609_df = pd.read_csv(file_path)"
   ]
  },
  {
   "cell_type": "code",
   "execution_count": 73,
   "metadata": {},
   "outputs": [],
   "source": [
    "file_path = ('Resources/YOY_citi_201707.csv')\n",
    "yoy_1707_df = pd.read_csv(file_path)"
   ]
  },
  {
   "cell_type": "code",
   "execution_count": 74,
   "metadata": {},
   "outputs": [],
   "source": [
    "file_path = ('Resources/YOY_citi_201708.csv')\n",
    "yoy_1708_df = pd.read_csv(file_path)"
   ]
  },
  {
   "cell_type": "code",
   "execution_count": 75,
   "metadata": {},
   "outputs": [],
   "source": [
    "file_path = ('Resources/YOY_citi_201709.csv')\n",
    "yoy_1709_df = pd.read_csv(file_path)"
   ]
  },
  {
   "cell_type": "code",
   "execution_count": 76,
   "metadata": {},
   "outputs": [],
   "source": [
    "file_path = ('Resources/YOY_citi_201807.csv')\n",
    "yoy_1807_df = pd.read_csv(file_path)"
   ]
  },
  {
   "cell_type": "code",
   "execution_count": 77,
   "metadata": {},
   "outputs": [],
   "source": [
    "file_path = ('Resources/YOY_citi_201808.csv')\n",
    "yoy_1808_df = pd.read_csv(file_path)"
   ]
  },
  {
   "cell_type": "code",
   "execution_count": 78,
   "metadata": {},
   "outputs": [],
   "source": [
    "file_path = ('Resources/YOY_citi_201809.csv')\n",
    "yoy_1809_df = pd.read_csv(file_path)"
   ]
  },
  {
   "cell_type": "code",
   "execution_count": 79,
   "metadata": {},
   "outputs": [],
   "source": [
    "file_path = ('Resources/YOY_citi_201907.csv')\n",
    "yoy_1907_df = pd.read_csv(file_path)"
   ]
  },
  {
   "cell_type": "code",
   "execution_count": 80,
   "metadata": {},
   "outputs": [],
   "source": [
    "file_path = ('Resources/YOY_citi_201908.csv')\n",
    "yoy_1908_df = pd.read_csv(file_path)"
   ]
  },
  {
   "cell_type": "code",
   "execution_count": 81,
   "metadata": {},
   "outputs": [],
   "source": [
    "file_path = ('Resources/YOY_citi_201909.csv')\n",
    "yoy_1909_df = pd.read_csv(file_path)"
   ]
  },
  {
   "cell_type": "code",
   "execution_count": 82,
   "metadata": {},
   "outputs": [],
   "source": [
    "yoy2_df = yoy_1607_df.append(yoy_1608_df, ignore_index = True) "
   ]
  },
  {
   "cell_type": "code",
   "execution_count": 83,
   "metadata": {},
   "outputs": [],
   "source": [
    "yoy3_df = yoy2_df.append(yoy_1609_df, ignore_index = True)"
   ]
  },
  {
   "cell_type": "code",
   "execution_count": 84,
   "metadata": {},
   "outputs": [],
   "source": [
    "yoy4_df = yoy3_df.append(yoy_1707_df, ignore_index = True)"
   ]
  },
  {
   "cell_type": "code",
   "execution_count": 85,
   "metadata": {},
   "outputs": [],
   "source": [
    "yoy5_df = yoy4_df.append(yoy_1708_df, ignore_index = True)"
   ]
  },
  {
   "cell_type": "code",
   "execution_count": 86,
   "metadata": {},
   "outputs": [],
   "source": [
    "yoy6_df = yoy5_df.append(yoy_1709_df, ignore_index = True)"
   ]
  },
  {
   "cell_type": "code",
   "execution_count": 87,
   "metadata": {},
   "outputs": [],
   "source": [
    "yoy7_df = yoy6_df.append(yoy_1807_df, ignore_index = True)"
   ]
  },
  {
   "cell_type": "code",
   "execution_count": 88,
   "metadata": {},
   "outputs": [],
   "source": [
    "yoy8_df = yoy7_df.append(yoy_1808_df, ignore_index = True)"
   ]
  },
  {
   "cell_type": "code",
   "execution_count": 89,
   "metadata": {},
   "outputs": [],
   "source": [
    "yoy9_df = yoy8_df.append(yoy_1809_df, ignore_index = True)"
   ]
  },
  {
   "cell_type": "code",
   "execution_count": 90,
   "metadata": {},
   "outputs": [],
   "source": [
    "yoy10_df = yoy9_df.append(yoy_1907_df, ignore_index = True)"
   ]
  },
  {
   "cell_type": "code",
   "execution_count": 91,
   "metadata": {},
   "outputs": [],
   "source": [
    "yoy11_df = yoy10_df.append(yoy_1908_df, ignore_index = True)"
   ]
  },
  {
   "cell_type": "code",
   "execution_count": 92,
   "metadata": {},
   "outputs": [],
   "source": [
    "yoy_julsep_df = yoy11_df.append(yoy_1909_df, ignore_index = True)"
   ]
  },
  {
   "cell_type": "code",
   "execution_count": 93,
   "metadata": {},
   "outputs": [],
   "source": [
    "yoy_julsep_df['Random_integer'] = np.random.randint(0,100000,size=(len(yoy_julsep_df),1))"
   ]
  },
  {
   "cell_type": "code",
   "execution_count": 94,
   "metadata": {},
   "outputs": [],
   "source": [
    "# citi_2019_df['mod3'] = citi_2019_df['Random_integer'] % 3"
   ]
  },
  {
   "cell_type": "code",
   "execution_count": 95,
   "metadata": {},
   "outputs": [],
   "source": [
    "# citi_2019_df['mod3'].value_counts()"
   ]
  },
  {
   "cell_type": "code",
   "execution_count": 96,
   "metadata": {},
   "outputs": [],
   "source": [
    "yoy_julsep_df['mod2'] = yoy_julsep_df['Random_integer'] % 2"
   ]
  },
  {
   "cell_type": "code",
   "execution_count": 97,
   "metadata": {},
   "outputs": [
    {
     "data": {
      "text/plain": [
       "0    1161306\n",
       "1    1160748\n",
       "Name: mod2, dtype: int64"
      ]
     },
     "execution_count": 97,
     "metadata": {},
     "output_type": "execute_result"
    }
   ],
   "source": [
    "yoy_julsep_df[\"mod2\"].value_counts()"
   ]
  },
  {
   "cell_type": "code",
   "execution_count": 98,
   "metadata": {},
   "outputs": [],
   "source": [
    "yoy_julsep_df['start station id'] = yoy_julsep_df['start station id'].apply(str)\n",
    "yoy_julsep_df['end station id'] = yoy_julsep_df['end station id'].apply(str)\n",
    "yoy_julsep_df['bikeid'] = yoy_julsep_df['bikeid'].apply(str)"
   ]
  },
  {
   "cell_type": "code",
   "execution_count": 99,
   "metadata": {},
   "outputs": [],
   "source": [
    "# yoy_julsep_df['startride'] = pd.to_datetime(yoy_julsep_df['starttime'])"
   ]
  },
  {
   "cell_type": "code",
   "execution_count": 100,
   "metadata": {},
   "outputs": [],
   "source": [
    "# yoy_julsep_df['stopride'] = pd.to_datetime(yoy_julsep_df['stoptime'])"
   ]
  },
  {
   "cell_type": "code",
   "execution_count": 101,
   "metadata": {},
   "outputs": [
    {
     "data": {
      "text/html": [
       "<div>\n",
       "<style scoped>\n",
       "    .dataframe tbody tr th:only-of-type {\n",
       "        vertical-align: middle;\n",
       "    }\n",
       "\n",
       "    .dataframe tbody tr th {\n",
       "        vertical-align: top;\n",
       "    }\n",
       "\n",
       "    .dataframe thead th {\n",
       "        text-align: right;\n",
       "    }\n",
       "</style>\n",
       "<table border=\"1\" class=\"dataframe\">\n",
       "  <thead>\n",
       "    <tr style=\"text-align: right;\">\n",
       "      <th></th>\n",
       "      <th>tripduration</th>\n",
       "      <th>start station latitude</th>\n",
       "      <th>start station longitude</th>\n",
       "      <th>end station latitude</th>\n",
       "      <th>end station longitude</th>\n",
       "      <th>birth year</th>\n",
       "      <th>gender</th>\n",
       "      <th>Random_integer</th>\n",
       "      <th>mod2</th>\n",
       "    </tr>\n",
       "  </thead>\n",
       "  <tbody>\n",
       "    <tr>\n",
       "      <th>count</th>\n",
       "      <td>2.322054e+06</td>\n",
       "      <td>2.322054e+06</td>\n",
       "      <td>2.322054e+06</td>\n",
       "      <td>2.322054e+06</td>\n",
       "      <td>2.322054e+06</td>\n",
       "      <td>2.191381e+06</td>\n",
       "      <td>2.322054e+06</td>\n",
       "      <td>2.322054e+06</td>\n",
       "      <td>2.322054e+06</td>\n",
       "    </tr>\n",
       "    <tr>\n",
       "      <th>mean</th>\n",
       "      <td>1.019948e+03</td>\n",
       "      <td>4.073674e+01</td>\n",
       "      <td>-7.398492e+01</td>\n",
       "      <td>4.073489e+01</td>\n",
       "      <td>-7.398232e+01</td>\n",
       "      <td>1.979774e+03</td>\n",
       "      <td>1.126590e+00</td>\n",
       "      <td>4.999110e+04</td>\n",
       "      <td>4.998798e-01</td>\n",
       "    </tr>\n",
       "    <tr>\n",
       "      <th>std</th>\n",
       "      <td>1.186098e+04</td>\n",
       "      <td>2.908561e-02</td>\n",
       "      <td>2.065129e-02</td>\n",
       "      <td>2.495947e-01</td>\n",
       "      <td>4.507196e-01</td>\n",
       "      <td>1.177437e+01</td>\n",
       "      <td>5.774769e-01</td>\n",
       "      <td>2.886451e+04</td>\n",
       "      <td>5.000001e-01</td>\n",
       "    </tr>\n",
       "    <tr>\n",
       "      <th>min</th>\n",
       "      <td>6.100000e+01</td>\n",
       "      <td>4.064654e+01</td>\n",
       "      <td>-7.409694e+01</td>\n",
       "      <td>0.000000e+00</td>\n",
       "      <td>-7.409694e+01</td>\n",
       "      <td>1.874000e+03</td>\n",
       "      <td>0.000000e+00</td>\n",
       "      <td>0.000000e+00</td>\n",
       "      <td>0.000000e+00</td>\n",
       "    </tr>\n",
       "    <tr>\n",
       "      <th>25%</th>\n",
       "      <td>3.850000e+02</td>\n",
       "      <td>4.071755e+01</td>\n",
       "      <td>-7.399726e+01</td>\n",
       "      <td>4.071755e+01</td>\n",
       "      <td>-7.399790e+01</td>\n",
       "      <td>1.970000e+03</td>\n",
       "      <td>1.000000e+00</td>\n",
       "      <td>2.500300e+04</td>\n",
       "      <td>0.000000e+00</td>\n",
       "    </tr>\n",
       "    <tr>\n",
       "      <th>50%</th>\n",
       "      <td>6.570000e+02</td>\n",
       "      <td>4.073653e+01</td>\n",
       "      <td>-7.398717e+01</td>\n",
       "      <td>4.073625e+01</td>\n",
       "      <td>-7.398752e+01</td>\n",
       "      <td>1.982000e+03</td>\n",
       "      <td>1.000000e+00</td>\n",
       "      <td>4.997700e+04</td>\n",
       "      <td>0.000000e+00</td>\n",
       "    </tr>\n",
       "    <tr>\n",
       "      <th>75%</th>\n",
       "      <td>1.149000e+03</td>\n",
       "      <td>4.075641e+01</td>\n",
       "      <td>-7.397422e+01</td>\n",
       "      <td>4.075594e+01</td>\n",
       "      <td>-7.397450e+01</td>\n",
       "      <td>1.989000e+03</td>\n",
       "      <td>1.000000e+00</td>\n",
       "      <td>7.499000e+04</td>\n",
       "      <td>1.000000e+00</td>\n",
       "    </tr>\n",
       "    <tr>\n",
       "      <th>max</th>\n",
       "      <td>6.053789e+06</td>\n",
       "      <td>4.550636e+01</td>\n",
       "      <td>-7.356946e+01</td>\n",
       "      <td>4.550636e+01</td>\n",
       "      <td>0.000000e+00</td>\n",
       "      <td>2.003000e+03</td>\n",
       "      <td>2.000000e+00</td>\n",
       "      <td>9.999900e+04</td>\n",
       "      <td>1.000000e+00</td>\n",
       "    </tr>\n",
       "  </tbody>\n",
       "</table>\n",
       "</div>"
      ],
      "text/plain": [
       "       tripduration  start station latitude  start station longitude  \\\n",
       "count  2.322054e+06            2.322054e+06             2.322054e+06   \n",
       "mean   1.019948e+03            4.073674e+01            -7.398492e+01   \n",
       "std    1.186098e+04            2.908561e-02             2.065129e-02   \n",
       "min    6.100000e+01            4.064654e+01            -7.409694e+01   \n",
       "25%    3.850000e+02            4.071755e+01            -7.399726e+01   \n",
       "50%    6.570000e+02            4.073653e+01            -7.398717e+01   \n",
       "75%    1.149000e+03            4.075641e+01            -7.397422e+01   \n",
       "max    6.053789e+06            4.550636e+01            -7.356946e+01   \n",
       "\n",
       "       end station latitude  end station longitude    birth year  \\\n",
       "count          2.322054e+06           2.322054e+06  2.191381e+06   \n",
       "mean           4.073489e+01          -7.398232e+01  1.979774e+03   \n",
       "std            2.495947e-01           4.507196e-01  1.177437e+01   \n",
       "min            0.000000e+00          -7.409694e+01  1.874000e+03   \n",
       "25%            4.071755e+01          -7.399790e+01  1.970000e+03   \n",
       "50%            4.073625e+01          -7.398752e+01  1.982000e+03   \n",
       "75%            4.075594e+01          -7.397450e+01  1.989000e+03   \n",
       "max            4.550636e+01           0.000000e+00  2.003000e+03   \n",
       "\n",
       "             gender  Random_integer          mod2  \n",
       "count  2.322054e+06    2.322054e+06  2.322054e+06  \n",
       "mean   1.126590e+00    4.999110e+04  4.998798e-01  \n",
       "std    5.774769e-01    2.886451e+04  5.000001e-01  \n",
       "min    0.000000e+00    0.000000e+00  0.000000e+00  \n",
       "25%    1.000000e+00    2.500300e+04  0.000000e+00  \n",
       "50%    1.000000e+00    4.997700e+04  0.000000e+00  \n",
       "75%    1.000000e+00    7.499000e+04  1.000000e+00  \n",
       "max    2.000000e+00    9.999900e+04  1.000000e+00  "
      ]
     },
     "execution_count": 101,
     "metadata": {},
     "output_type": "execute_result"
    }
   ],
   "source": [
    "yoy_julsep_df.describe()"
   ]
  },
  {
   "cell_type": "code",
   "execution_count": 102,
   "metadata": {},
   "outputs": [],
   "source": [
    "yoy_julsep_df['trip_len_hrs'] = yoy_julsep_df['tripduration'] / 3600\n",
    "    "
   ]
  },
  {
   "cell_type": "code",
   "execution_count": 103,
   "metadata": {},
   "outputs": [],
   "source": [
    "yoy_julsep_df['trip_year'] = yoy_julsep_df['starttime'].str[:4]"
   ]
  },
  {
   "cell_type": "code",
   "execution_count": 104,
   "metadata": {},
   "outputs": [],
   "source": [
    "yoy_julsep_df['trip_year'] = pd.to_numeric(yoy_julsep_df['trip_year'])"
   ]
  },
  {
   "cell_type": "code",
   "execution_count": 105,
   "metadata": {},
   "outputs": [],
   "source": [
    "yoy_julsep_df['month'] = yoy_julsep_df['starttime'].str[5:7]"
   ]
  },
  {
   "cell_type": "code",
   "execution_count": 106,
   "metadata": {},
   "outputs": [],
   "source": [
    "yoy_julsep_df['month'] = pd.to_numeric(yoy_julsep_df['month'])"
   ]
  },
  {
   "cell_type": "code",
   "execution_count": 107,
   "metadata": {},
   "outputs": [],
   "source": [
    "def quarter_cat(row):\n",
    "\n",
    "    if row['month'] >= 1 and row['month'] <= 3:\n",
    "        qtr_val = 'Q1'\n",
    "    elif row['month'] >= 4 and row['month'] <= 6:\n",
    "        qtr_val = 'Q2'\n",
    "    elif row['month'] >= 7 and row['month'] <= 9:\n",
    "        qtr_val = 'Q3'\n",
    "    elif row['month'] >= 10 and row['month'] <= 12:\n",
    "        qtr_val = 'Q4'\n",
    "    else:\n",
    "        qtr_val = 'NaN'\n",
    "    return qtr_val"
   ]
  },
  {
   "cell_type": "code",
   "execution_count": 108,
   "metadata": {},
   "outputs": [],
   "source": [
    "yoy_julsep_df['quarter'] = yoy_julsep_df.apply(quarter_cat, axis=1)"
   ]
  },
  {
   "cell_type": "code",
   "execution_count": 109,
   "metadata": {},
   "outputs": [],
   "source": [
    "def season_cat(row):\n",
    "\n",
    "    if row['month'] >= 1 and row['month'] <= 2:\n",
    "        season_val = 'winter'\n",
    "    elif row['month'] >= 4 and row['month'] <= 5:\n",
    "        season_val = 'spring'\n",
    "    elif row['month'] >= 7 and row['month'] <= 8:\n",
    "        season_val = 'summer'\n",
    "    elif row['month'] >= 9 and row['month'] <= 10:\n",
    "        season_val = 'fall'\n",
    "    else:\n",
    "        season_val = 'other'\n",
    "    return season_val"
   ]
  },
  {
   "cell_type": "code",
   "execution_count": 110,
   "metadata": {},
   "outputs": [],
   "source": [
    "yoy_julsep_df['season'] = yoy_julsep_df.apply(season_cat, axis=1)"
   ]
  },
  {
   "cell_type": "code",
   "execution_count": 111,
   "metadata": {},
   "outputs": [],
   "source": [
    "def sex_label(row):\n",
    "\n",
    "    if row['gender'] == 2:\n",
    "        sex_val = 'female'\n",
    "    elif row['gender'] == 1:\n",
    "        sex_val = 'male'\n",
    "    else:\n",
    "        sex_val = 'na'\n",
    "    return sex_val"
   ]
  },
  {
   "cell_type": "code",
   "execution_count": 112,
   "metadata": {},
   "outputs": [],
   "source": [
    "yoy_julsep_df['sex'] = yoy_julsep_df.apply(sex_label, axis=1)"
   ]
  },
  {
   "cell_type": "code",
   "execution_count": 113,
   "metadata": {},
   "outputs": [],
   "source": [
    "\n",
    "def age_calc(row):\n",
    "\n",
    "    if row['birth year'] >= 2000:\n",
    "        age_val = row['trip_year'] - row['birth year'] + row['mod2']\n",
    "    elif row['birth year'] >= 1930:\n",
    "        age_val = (2000 - row['birth year']) + (row['trip_year'] - 2000) + row['mod2']\n",
    "    else:\n",
    "        age_val = 'na'\n",
    "    return age_val"
   ]
  },
  {
   "cell_type": "code",
   "execution_count": 114,
   "metadata": {},
   "outputs": [],
   "source": [
    "yoy_julsep_df['age'] = yoy_julsep_df.apply(age_calc, axis=1)"
   ]
  },
  {
   "cell_type": "code",
   "execution_count": 115,
   "metadata": {},
   "outputs": [],
   "source": [
    "yoy_julsep_df = yoy_julsep_df.drop('mod2', axis=1)\n",
    "yoy_julsep_df = yoy_julsep_df.drop('Random_integer', axis=1)"
   ]
  },
  {
   "cell_type": "code",
   "execution_count": 116,
   "metadata": {},
   "outputs": [],
   "source": [
    "yoy_julsep_df.to_csv(\"Output/yoy_julsep_2016to2019.csv\", index=False)"
   ]
  },
  {
   "cell_type": "code",
   "execution_count": null,
   "metadata": {},
   "outputs": [],
   "source": []
  },
  {
   "cell_type": "code",
   "execution_count": 117,
   "metadata": {},
   "outputs": [
    {
     "data": {
      "text/plain": [
       "tripduration                 int64\n",
       "starttime                   object\n",
       "stoptime                    object\n",
       "start station id            object\n",
       "start station name          object\n",
       "start station latitude     float64\n",
       "start station longitude    float64\n",
       "end station id              object\n",
       "end station name            object\n",
       "end station latitude       float64\n",
       "end station longitude      float64\n",
       "bikeid                      object\n",
       "usertype                    object\n",
       "birth year                 float64\n",
       "gender                       int64\n",
       "trip_len_hrs               float64\n",
       "trip_year                    int64\n",
       "month                        int64\n",
       "quarter                     object\n",
       "season                      object\n",
       "sex                         object\n",
       "age                         object\n",
       "dtype: object"
      ]
     },
     "execution_count": 117,
     "metadata": {},
     "output_type": "execute_result"
    }
   ],
   "source": [
    "yoy_julsep_df.dtypes"
   ]
  },
  {
   "cell_type": "code",
   "execution_count": 118,
   "metadata": {},
   "outputs": [
    {
     "data": {
      "text/html": [
       "<div>\n",
       "<style scoped>\n",
       "    .dataframe tbody tr th:only-of-type {\n",
       "        vertical-align: middle;\n",
       "    }\n",
       "\n",
       "    .dataframe tbody tr th {\n",
       "        vertical-align: top;\n",
       "    }\n",
       "\n",
       "    .dataframe thead th {\n",
       "        text-align: right;\n",
       "    }\n",
       "</style>\n",
       "<table border=\"1\" class=\"dataframe\">\n",
       "  <thead>\n",
       "    <tr style=\"text-align: right;\">\n",
       "      <th></th>\n",
       "      <th>tripduration</th>\n",
       "      <th>starttime</th>\n",
       "      <th>stoptime</th>\n",
       "      <th>start station id</th>\n",
       "      <th>start station name</th>\n",
       "      <th>start station latitude</th>\n",
       "      <th>start station longitude</th>\n",
       "      <th>end station id</th>\n",
       "      <th>end station name</th>\n",
       "      <th>end station latitude</th>\n",
       "      <th>...</th>\n",
       "      <th>usertype</th>\n",
       "      <th>birth year</th>\n",
       "      <th>gender</th>\n",
       "      <th>trip_len_hrs</th>\n",
       "      <th>trip_year</th>\n",
       "      <th>month</th>\n",
       "      <th>quarter</th>\n",
       "      <th>season</th>\n",
       "      <th>sex</th>\n",
       "      <th>age</th>\n",
       "    </tr>\n",
       "  </thead>\n",
       "  <tbody>\n",
       "    <tr>\n",
       "      <th>0</th>\n",
       "      <td>419</td>\n",
       "      <td>2016-07-01 00:01:59</td>\n",
       "      <td>2016-07-01 00:08:58</td>\n",
       "      <td>128.0</td>\n",
       "      <td>MacDougal St &amp; Prince St</td>\n",
       "      <td>40.727103</td>\n",
       "      <td>-74.002971</td>\n",
       "      <td>435.0</td>\n",
       "      <td>W 21 St &amp; 6 Ave</td>\n",
       "      <td>40.741740</td>\n",
       "      <td>...</td>\n",
       "      <td>Subscriber</td>\n",
       "      <td>1992.0</td>\n",
       "      <td>2</td>\n",
       "      <td>0.116389</td>\n",
       "      <td>2016</td>\n",
       "      <td>7</td>\n",
       "      <td>Q3</td>\n",
       "      <td>summer</td>\n",
       "      <td>female</td>\n",
       "      <td>25</td>\n",
       "    </tr>\n",
       "    <tr>\n",
       "      <th>1</th>\n",
       "      <td>209</td>\n",
       "      <td>2016-07-01 00:02:31</td>\n",
       "      <td>2016-07-01 00:06:01</td>\n",
       "      <td>410.0</td>\n",
       "      <td>Suffolk St &amp; Stanton St</td>\n",
       "      <td>40.720664</td>\n",
       "      <td>-73.985180</td>\n",
       "      <td>473.0</td>\n",
       "      <td>Rivington St &amp; Chrystie St</td>\n",
       "      <td>40.721101</td>\n",
       "      <td>...</td>\n",
       "      <td>Subscriber</td>\n",
       "      <td>1984.0</td>\n",
       "      <td>1</td>\n",
       "      <td>0.058056</td>\n",
       "      <td>2016</td>\n",
       "      <td>7</td>\n",
       "      <td>Q3</td>\n",
       "      <td>summer</td>\n",
       "      <td>male</td>\n",
       "      <td>33</td>\n",
       "    </tr>\n",
       "    <tr>\n",
       "      <th>2</th>\n",
       "      <td>635</td>\n",
       "      <td>2016-07-01 00:03:43</td>\n",
       "      <td>2016-07-01 00:14:19</td>\n",
       "      <td>336.0</td>\n",
       "      <td>Sullivan St &amp; Washington Sq</td>\n",
       "      <td>40.730477</td>\n",
       "      <td>-73.999061</td>\n",
       "      <td>402.0</td>\n",
       "      <td>Broadway &amp; E 22 St</td>\n",
       "      <td>40.740343</td>\n",
       "      <td>...</td>\n",
       "      <td>Subscriber</td>\n",
       "      <td>1997.0</td>\n",
       "      <td>1</td>\n",
       "      <td>0.176389</td>\n",
       "      <td>2016</td>\n",
       "      <td>7</td>\n",
       "      <td>Q3</td>\n",
       "      <td>summer</td>\n",
       "      <td>male</td>\n",
       "      <td>19</td>\n",
       "    </tr>\n",
       "    <tr>\n",
       "      <th>3</th>\n",
       "      <td>612</td>\n",
       "      <td>2016-07-01 00:05:22</td>\n",
       "      <td>2016-07-01 00:15:34</td>\n",
       "      <td>336.0</td>\n",
       "      <td>Sullivan St &amp; Washington Sq</td>\n",
       "      <td>40.730477</td>\n",
       "      <td>-73.999061</td>\n",
       "      <td>3255.0</td>\n",
       "      <td>8 Ave &amp; W 31 St</td>\n",
       "      <td>40.750585</td>\n",
       "      <td>...</td>\n",
       "      <td>Subscriber</td>\n",
       "      <td>1985.0</td>\n",
       "      <td>1</td>\n",
       "      <td>0.170000</td>\n",
       "      <td>2016</td>\n",
       "      <td>7</td>\n",
       "      <td>Q3</td>\n",
       "      <td>summer</td>\n",
       "      <td>male</td>\n",
       "      <td>32</td>\n",
       "    </tr>\n",
       "    <tr>\n",
       "      <th>4</th>\n",
       "      <td>1154</td>\n",
       "      <td>2016-07-01 00:06:33</td>\n",
       "      <td>2016-07-01 00:25:48</td>\n",
       "      <td>3140.0</td>\n",
       "      <td>1 Ave &amp; E 78 St</td>\n",
       "      <td>40.771404</td>\n",
       "      <td>-73.953517</td>\n",
       "      <td>483.0</td>\n",
       "      <td>E 12 St &amp; 3 Ave</td>\n",
       "      <td>40.732233</td>\n",
       "      <td>...</td>\n",
       "      <td>Subscriber</td>\n",
       "      <td>1990.0</td>\n",
       "      <td>1</td>\n",
       "      <td>0.320556</td>\n",
       "      <td>2016</td>\n",
       "      <td>7</td>\n",
       "      <td>Q3</td>\n",
       "      <td>summer</td>\n",
       "      <td>male</td>\n",
       "      <td>26</td>\n",
       "    </tr>\n",
       "    <tr>\n",
       "      <th>5</th>\n",
       "      <td>705</td>\n",
       "      <td>2016-07-01 00:08:38</td>\n",
       "      <td>2016-07-01 00:20:24</td>\n",
       "      <td>441.0</td>\n",
       "      <td>E 52 St &amp; 2 Ave</td>\n",
       "      <td>40.756014</td>\n",
       "      <td>-73.967416</td>\n",
       "      <td>476.0</td>\n",
       "      <td>E 31 St &amp; 3 Ave</td>\n",
       "      <td>40.743943</td>\n",
       "      <td>...</td>\n",
       "      <td>Subscriber</td>\n",
       "      <td>1991.0</td>\n",
       "      <td>1</td>\n",
       "      <td>0.195833</td>\n",
       "      <td>2016</td>\n",
       "      <td>7</td>\n",
       "      <td>Q3</td>\n",
       "      <td>summer</td>\n",
       "      <td>male</td>\n",
       "      <td>25</td>\n",
       "    </tr>\n",
       "    <tr>\n",
       "      <th>6</th>\n",
       "      <td>719</td>\n",
       "      <td>2016-07-01 00:11:04</td>\n",
       "      <td>2016-07-01 00:23:03</td>\n",
       "      <td>3125.0</td>\n",
       "      <td>45 Rd &amp; 11 St</td>\n",
       "      <td>40.747086</td>\n",
       "      <td>-73.949772</td>\n",
       "      <td>3107.0</td>\n",
       "      <td>Bedford Ave &amp; Nassau Ave</td>\n",
       "      <td>40.723117</td>\n",
       "      <td>...</td>\n",
       "      <td>Subscriber</td>\n",
       "      <td>1996.0</td>\n",
       "      <td>1</td>\n",
       "      <td>0.199722</td>\n",
       "      <td>2016</td>\n",
       "      <td>7</td>\n",
       "      <td>Q3</td>\n",
       "      <td>summer</td>\n",
       "      <td>male</td>\n",
       "      <td>21</td>\n",
       "    </tr>\n",
       "  </tbody>\n",
       "</table>\n",
       "<p>7 rows × 22 columns</p>\n",
       "</div>"
      ],
      "text/plain": [
       "   tripduration            starttime             stoptime start station id  \\\n",
       "0           419  2016-07-01 00:01:59  2016-07-01 00:08:58            128.0   \n",
       "1           209  2016-07-01 00:02:31  2016-07-01 00:06:01            410.0   \n",
       "2           635  2016-07-01 00:03:43  2016-07-01 00:14:19            336.0   \n",
       "3           612  2016-07-01 00:05:22  2016-07-01 00:15:34            336.0   \n",
       "4          1154  2016-07-01 00:06:33  2016-07-01 00:25:48           3140.0   \n",
       "5           705  2016-07-01 00:08:38  2016-07-01 00:20:24            441.0   \n",
       "6           719  2016-07-01 00:11:04  2016-07-01 00:23:03           3125.0   \n",
       "\n",
       "            start station name  start station latitude  \\\n",
       "0     MacDougal St & Prince St               40.727103   \n",
       "1      Suffolk St & Stanton St               40.720664   \n",
       "2  Sullivan St & Washington Sq               40.730477   \n",
       "3  Sullivan St & Washington Sq               40.730477   \n",
       "4              1 Ave & E 78 St               40.771404   \n",
       "5              E 52 St & 2 Ave               40.756014   \n",
       "6                45 Rd & 11 St               40.747086   \n",
       "\n",
       "   start station longitude end station id            end station name  \\\n",
       "0               -74.002971          435.0             W 21 St & 6 Ave   \n",
       "1               -73.985180          473.0  Rivington St & Chrystie St   \n",
       "2               -73.999061          402.0          Broadway & E 22 St   \n",
       "3               -73.999061         3255.0             8 Ave & W 31 St   \n",
       "4               -73.953517          483.0             E 12 St & 3 Ave   \n",
       "5               -73.967416          476.0             E 31 St & 3 Ave   \n",
       "6               -73.949772         3107.0    Bedford Ave & Nassau Ave   \n",
       "\n",
       "   end station latitude  ...    usertype birth year gender  trip_len_hrs  \\\n",
       "0             40.741740  ...  Subscriber     1992.0      2      0.116389   \n",
       "1             40.721101  ...  Subscriber     1984.0      1      0.058056   \n",
       "2             40.740343  ...  Subscriber     1997.0      1      0.176389   \n",
       "3             40.750585  ...  Subscriber     1985.0      1      0.170000   \n",
       "4             40.732233  ...  Subscriber     1990.0      1      0.320556   \n",
       "5             40.743943  ...  Subscriber     1991.0      1      0.195833   \n",
       "6             40.723117  ...  Subscriber     1996.0      1      0.199722   \n",
       "\n",
       "   trip_year  month  quarter  season     sex age  \n",
       "0       2016      7       Q3  summer  female  25  \n",
       "1       2016      7       Q3  summer    male  33  \n",
       "2       2016      7       Q3  summer    male  19  \n",
       "3       2016      7       Q3  summer    male  32  \n",
       "4       2016      7       Q3  summer    male  26  \n",
       "5       2016      7       Q3  summer    male  25  \n",
       "6       2016      7       Q3  summer    male  21  \n",
       "\n",
       "[7 rows x 22 columns]"
      ]
     },
     "execution_count": 118,
     "metadata": {},
     "output_type": "execute_result"
    }
   ],
   "source": [
    "yoy_julsep_df.head(7)"
   ]
  },
  {
   "cell_type": "code",
   "execution_count": 119,
   "metadata": {},
   "outputs": [
    {
     "data": {
      "text/plain": [
       "1969.0    150367\n",
       "1989.0     93859\n",
       "1988.0     92932\n",
       "1990.0     92676\n",
       "1987.0     85842\n",
       "           ...  \n",
       "1905.0         1\n",
       "1906.0         1\n",
       "1891.0         1\n",
       "1897.0         1\n",
       "1874.0         1\n",
       "Name: birth year, Length: 112, dtype: int64"
      ]
     },
     "execution_count": 119,
     "metadata": {},
     "output_type": "execute_result"
    }
   ],
   "source": [
    "yoy_julsep_df[\"birth year\"].value_counts()"
   ]
  },
  {
   "cell_type": "code",
   "execution_count": 120,
   "metadata": {},
   "outputs": [
    {
     "data": {
      "text/plain": [
       "1    1510486\n",
       "2     552758\n",
       "0     258810\n",
       "Name: gender, dtype: int64"
      ]
     },
     "execution_count": 120,
     "metadata": {},
     "output_type": "execute_result"
    }
   ],
   "source": [
    "yoy_julsep_df[\"gender\"].value_counts()"
   ]
  }
 ],
 "metadata": {
  "kernelspec": {
   "display_name": "Python 3",
   "language": "python",
   "name": "python3"
  },
  "language_info": {
   "codemirror_mode": {
    "name": "ipython",
    "version": 3
   },
   "file_extension": ".py",
   "mimetype": "text/x-python",
   "name": "python",
   "nbconvert_exporter": "python",
   "pygments_lexer": "ipython3",
   "version": "3.7.5"
  }
 },
 "nbformat": 4,
 "nbformat_minor": 2
}
