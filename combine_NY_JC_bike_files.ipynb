{
 "cells": [
  {
   "cell_type": "code",
   "execution_count": 37,
   "metadata": {},
   "outputs": [],
   "source": [
    "import pandas as pd\n",
    "import numpy as np"
   ]
  },
  {
   "cell_type": "markdown",
   "metadata": {},
   "source": [
    "## January"
   ]
  },
  {
   "cell_type": "code",
   "execution_count": 38,
   "metadata": {},
   "outputs": [],
   "source": [
    "file_path = ('Resources/2019/JC-201901-citibike-tripdata.csv')\n",
    "JC_01_df = pd.read_csv(file_path)"
   ]
  },
  {
   "cell_type": "code",
   "execution_count": 39,
   "metadata": {},
   "outputs": [],
   "source": [
    "file_path = ('Resources/2019/201901-citibike-tripdata.csv')\n",
    "NY_01_df = pd.read_csv(file_path)"
   ]
  },
  {
   "cell_type": "code",
   "execution_count": 40,
   "metadata": {},
   "outputs": [],
   "source": [
    "citi_201901_df = NY_01_df.append(JC_01_df, ignore_index = True) "
   ]
  },
  {
   "cell_type": "code",
   "execution_count": 41,
   "metadata": {},
   "outputs": [],
   "source": [
    "citi_201901_df['Random_integer'] = np.random.randint(0,100000,size=(len(citi_201901_df),1))"
   ]
  },
  {
   "cell_type": "code",
   "execution_count": 42,
   "metadata": {},
   "outputs": [],
   "source": [
    "citi_201901_df['mod10'] = citi_201901_df['Random_integer'] % 10"
   ]
  },
  {
   "cell_type": "code",
   "execution_count": 43,
   "metadata": {
    "scrolled": false
   },
   "outputs": [
    {
     "data": {
      "text/plain": [
       "6    96650\n",
       "0    96417\n",
       "3    96374\n",
       "4    96299\n",
       "8    96230\n",
       "2    96199\n",
       "7    96162\n",
       "1    96078\n",
       "5    95963\n",
       "9    95937\n",
       "Name: mod10, dtype: int64"
      ]
     },
     "execution_count": 43,
     "metadata": {},
     "output_type": "execute_result"
    }
   ],
   "source": [
    "citi_201901_df['mod10'].value_counts()"
   ]
  },
  {
   "cell_type": "code",
   "execution_count": 44,
   "metadata": {},
   "outputs": [],
   "source": [
    "sample_201901_df = citi_201901_df.loc[citi_201901_df[\"mod10\"] == 7]"
   ]
  },
  {
   "cell_type": "code",
   "execution_count": 45,
   "metadata": {},
   "outputs": [],
   "source": [
    "sample_201901_df.to_csv(\"Resources/sample_citi_201901.csv\", index=False)"
   ]
  },
  {
   "cell_type": "markdown",
   "metadata": {},
   "source": [
    "## February"
   ]
  },
  {
   "cell_type": "code",
   "execution_count": 38,
   "metadata": {},
   "outputs": [],
   "source": [
    "file_path = ('Resources/2019/JC-201902-citibike-tripdata.csv')\n",
    "JC_02_df = pd.read_csv(file_path)"
   ]
  },
  {
   "cell_type": "code",
   "execution_count": 39,
   "metadata": {},
   "outputs": [],
   "source": [
    "file_path = ('Resources/2019/201902-citibike-tripdata.csv')\n",
    "NY_02_df = pd.read_csv(file_path)"
   ]
  },
  {
   "cell_type": "code",
   "execution_count": 40,
   "metadata": {},
   "outputs": [],
   "source": [
    "citi_201902_df = NY_02_df.append(JC_02_df, ignore_index = True) "
   ]
  },
  {
   "cell_type": "code",
   "execution_count": 41,
   "metadata": {},
   "outputs": [],
   "source": [
    "citi_201902_df['Random_integer'] = np.random.randint(0,100000,size=(len(citi_201902_df),1))"
   ]
  },
  {
   "cell_type": "code",
   "execution_count": 42,
   "metadata": {},
   "outputs": [],
   "source": [
    "citi_201902_df['mod10'] = citi_201902_df['Random_integer'] % 10"
   ]
  },
  {
   "cell_type": "code",
   "execution_count": 43,
   "metadata": {
    "scrolled": false
   },
   "outputs": [
    {
     "data": {
      "text/plain": [
       "6    96650\n",
       "0    96417\n",
       "3    96374\n",
       "4    96299\n",
       "8    96230\n",
       "2    96199\n",
       "7    96162\n",
       "1    96078\n",
       "5    95963\n",
       "9    95937\n",
       "Name: mod10, dtype: int64"
      ]
     },
     "execution_count": 43,
     "metadata": {},
     "output_type": "execute_result"
    }
   ],
   "source": [
    "citi_201902_df['mod10'].value_counts()"
   ]
  },
  {
   "cell_type": "code",
   "execution_count": 44,
   "metadata": {},
   "outputs": [],
   "source": [
    "sample_201902_df = citi_201902_df.loc[citi_201902_df[\"mod10\"] == 7]"
   ]
  },
  {
   "cell_type": "code",
   "execution_count": 45,
   "metadata": {},
   "outputs": [],
   "source": [
    "sample_201902_df.to_csv(\"Resources/sample_citi_201902.csv\", index=False)"
   ]
  },
  {
   "cell_type": "markdown",
   "metadata": {},
   "source": [
    "## March"
   ]
  },
  {
   "cell_type": "code",
   "execution_count": 46,
   "metadata": {},
   "outputs": [],
   "source": [
    "file_path = ('Resources/2019/JC-201903-citibike-tripdata.csv')\n",
    "JC_03_df = pd.read_csv(file_path)"
   ]
  },
  {
   "cell_type": "code",
   "execution_count": 47,
   "metadata": {},
   "outputs": [],
   "source": [
    "file_path = ('Resources/2019/201903-citibike-tripdata.csv')\n",
    "NY_03_df = pd.read_csv(file_path)"
   ]
  },
  {
   "cell_type": "code",
   "execution_count": 48,
   "metadata": {},
   "outputs": [],
   "source": [
    "citi_201903_df = NY_03_df.append(JC_03_df, ignore_index = True) "
   ]
  },
  {
   "cell_type": "code",
   "execution_count": 49,
   "metadata": {},
   "outputs": [],
   "source": [
    "citi_201903_df['Random_integer'] = np.random.randint(0,100000,size=(len(citi_201903_df),1))"
   ]
  },
  {
   "cell_type": "code",
   "execution_count": 50,
   "metadata": {},
   "outputs": [],
   "source": [
    "citi_201903_df['mod10'] = citi_201903_df['Random_integer'] % 10"
   ]
  },
  {
   "cell_type": "code",
   "execution_count": 51,
   "metadata": {
    "scrolled": false
   },
   "outputs": [
    {
     "data": {
      "text/plain": [
       "2    135484\n",
       "3    135408\n",
       "1    135358\n",
       "4    135232\n",
       "8    135178\n",
       "0    135089\n",
       "5    135087\n",
       "7    135043\n",
       "9    134986\n",
       "6    134701\n",
       "Name: mod10, dtype: int64"
      ]
     },
     "execution_count": 51,
     "metadata": {},
     "output_type": "execute_result"
    }
   ],
   "source": [
    "citi_201903_df['mod10'].value_counts()"
   ]
  },
  {
   "cell_type": "code",
   "execution_count": 52,
   "metadata": {},
   "outputs": [],
   "source": [
    "sample_201903_df = citi_201903_df.loc[citi_201903_df[\"mod10\"] == 7]"
   ]
  },
  {
   "cell_type": "code",
   "execution_count": 53,
   "metadata": {},
   "outputs": [],
   "source": [
    "sample_201903_df.to_csv(\"Resources/sample_citi_201903.csv\", index=False)"
   ]
  },
  {
   "cell_type": "markdown",
   "metadata": {},
   "source": [
    "## April"
   ]
  },
  {
   "cell_type": "code",
   "execution_count": 54,
   "metadata": {},
   "outputs": [],
   "source": [
    "file_path = ('Resources/2019/JC-201904-citibike-tripdata.csv')\n",
    "JC_04_df = pd.read_csv(file_path)"
   ]
  },
  {
   "cell_type": "code",
   "execution_count": 55,
   "metadata": {},
   "outputs": [],
   "source": [
    "file_path = ('Resources/2019/201904-citibike-tripdata.csv')\n",
    "NY_04_df = pd.read_csv(file_path)"
   ]
  },
  {
   "cell_type": "code",
   "execution_count": 56,
   "metadata": {},
   "outputs": [],
   "source": [
    "citi_201904_df = NY_04_df.append(JC_04_df, ignore_index = True) "
   ]
  },
  {
   "cell_type": "code",
   "execution_count": 57,
   "metadata": {},
   "outputs": [],
   "source": [
    "citi_201904_df['Random_integer'] = np.random.randint(0,100000,size=(len(citi_201904_df),1))"
   ]
  },
  {
   "cell_type": "code",
   "execution_count": 58,
   "metadata": {},
   "outputs": [],
   "source": [
    "citi_201904_df['mod10'] = citi_201904_df['Random_integer'] % 10"
   ]
  },
  {
   "cell_type": "code",
   "execution_count": 59,
   "metadata": {
    "scrolled": false
   },
   "outputs": [
    {
     "data": {
      "text/plain": [
       "3    180584\n",
       "5    180454\n",
       "6    180284\n",
       "8    180212\n",
       "9    180121\n",
       "1    180048\n",
       "4    179925\n",
       "0    179407\n",
       "2    179388\n",
       "7    178727\n",
       "Name: mod10, dtype: int64"
      ]
     },
     "execution_count": 59,
     "metadata": {},
     "output_type": "execute_result"
    }
   ],
   "source": [
    "citi_201904_df['mod10'].value_counts()"
   ]
  },
  {
   "cell_type": "code",
   "execution_count": 60,
   "metadata": {},
   "outputs": [],
   "source": [
    "sample_201904_df = citi_201904_df.loc[citi_201904_df[\"mod10\"] == 7]"
   ]
  },
  {
   "cell_type": "code",
   "execution_count": 61,
   "metadata": {},
   "outputs": [],
   "source": [
    "sample_201904_df.to_csv(\"Resources/sample_citi_201904.csv\", index=False)"
   ]
  },
  {
   "cell_type": "markdown",
   "metadata": {},
   "source": [
    "## May"
   ]
  },
  {
   "cell_type": "code",
   "execution_count": 62,
   "metadata": {},
   "outputs": [],
   "source": [
    "file_path = ('Resources/2019/JC-201905-citibike-tripdata.csv')\n",
    "JC_05_df = pd.read_csv(file_path)"
   ]
  },
  {
   "cell_type": "code",
   "execution_count": 63,
   "metadata": {},
   "outputs": [],
   "source": [
    "file_path = ('Resources/2019/201905-citibike-tripdata.csv')\n",
    "NY_05_df = pd.read_csv(file_path)"
   ]
  },
  {
   "cell_type": "code",
   "execution_count": 64,
   "metadata": {},
   "outputs": [],
   "source": [
    "citi_201905_df = NY_05_df.append(JC_05_df, ignore_index = True) "
   ]
  },
  {
   "cell_type": "code",
   "execution_count": 65,
   "metadata": {},
   "outputs": [],
   "source": [
    "citi_201905_df['Random_integer'] = np.random.randint(0,100000,size=(len(citi_201905_df),1))"
   ]
  },
  {
   "cell_type": "code",
   "execution_count": 66,
   "metadata": {},
   "outputs": [],
   "source": [
    "citi_201905_df['mod10'] = citi_201905_df['Random_integer'] % 10"
   ]
  },
  {
   "cell_type": "code",
   "execution_count": 67,
   "metadata": {
    "scrolled": false
   },
   "outputs": [
    {
     "data": {
      "text/plain": [
       "5    196624\n",
       "6    196206\n",
       "3    196162\n",
       "8    196151\n",
       "0    196033\n",
       "7    195998\n",
       "9    195982\n",
       "4    195955\n",
       "1    195870\n",
       "2    195717\n",
       "Name: mod10, dtype: int64"
      ]
     },
     "execution_count": 67,
     "metadata": {},
     "output_type": "execute_result"
    }
   ],
   "source": [
    "citi_201905_df['mod10'].value_counts()"
   ]
  },
  {
   "cell_type": "code",
   "execution_count": 68,
   "metadata": {},
   "outputs": [],
   "source": [
    "sample_201905_df = citi_201905_df.loc[citi_201905_df[\"mod10\"] == 7]"
   ]
  },
  {
   "cell_type": "code",
   "execution_count": 69,
   "metadata": {},
   "outputs": [],
   "source": [
    "sample_201905_df.to_csv(\"Resources/sample_citi_201905.csv\", index=False)"
   ]
  },
  {
   "cell_type": "markdown",
   "metadata": {},
   "source": [
    "## June"
   ]
  },
  {
   "cell_type": "code",
   "execution_count": 70,
   "metadata": {},
   "outputs": [],
   "source": [
    "file_path = ('Resources/2019/JC-201906-citibike-tripdata.csv')\n",
    "JC_06_df = pd.read_csv(file_path)"
   ]
  },
  {
   "cell_type": "code",
   "execution_count": 71,
   "metadata": {},
   "outputs": [],
   "source": [
    "file_path = ('Resources/2019/201906-citibike-tripdata.csv')\n",
    "NY_06_df = pd.read_csv(file_path)"
   ]
  },
  {
   "cell_type": "code",
   "execution_count": 72,
   "metadata": {},
   "outputs": [],
   "source": [
    "citi_201906_df = NY_06_df.append(JC_06_df, ignore_index = True) "
   ]
  },
  {
   "cell_type": "code",
   "execution_count": 73,
   "metadata": {},
   "outputs": [],
   "source": [
    "citi_201906_df['Random_integer'] = np.random.randint(0,100000,size=(len(citi_201906_df),1))"
   ]
  },
  {
   "cell_type": "code",
   "execution_count": 74,
   "metadata": {},
   "outputs": [],
   "source": [
    "citi_201906_df['mod10'] = citi_201906_df['Random_integer'] % 10"
   ]
  },
  {
   "cell_type": "code",
   "execution_count": 75,
   "metadata": {
    "scrolled": false
   },
   "outputs": [
    {
     "data": {
      "text/plain": [
       "3    216894\n",
       "6    216885\n",
       "8    216746\n",
       "2    216591\n",
       "5    216505\n",
       "1    216471\n",
       "4    216451\n",
       "9    216261\n",
       "7    216233\n",
       "0    215763\n",
       "Name: mod10, dtype: int64"
      ]
     },
     "execution_count": 75,
     "metadata": {},
     "output_type": "execute_result"
    }
   ],
   "source": [
    "citi_201906_df['mod10'].value_counts()"
   ]
  },
  {
   "cell_type": "code",
   "execution_count": 76,
   "metadata": {},
   "outputs": [],
   "source": [
    "sample_201906_df = citi_201906_df.loc[citi_201906_df[\"mod10\"] == 7]"
   ]
  },
  {
   "cell_type": "code",
   "execution_count": 77,
   "metadata": {},
   "outputs": [],
   "source": [
    "sample_201906_df.to_csv(\"Resources/sample_citi_201906.csv\", index=False)"
   ]
  },
  {
   "cell_type": "markdown",
   "metadata": {},
   "source": [
    "## July"
   ]
  },
  {
   "cell_type": "code",
   "execution_count": 78,
   "metadata": {},
   "outputs": [],
   "source": [
    "file_path = ('Resources/2019/JC-201907-citibike-tripdata.csv')\n",
    "JC_07_df = pd.read_csv(file_path)"
   ]
  },
  {
   "cell_type": "code",
   "execution_count": 79,
   "metadata": {},
   "outputs": [],
   "source": [
    "file_path = ('Resources/2019/201907-citibike-tripdata.csv')\n",
    "NY_07_df = pd.read_csv(file_path)"
   ]
  },
  {
   "cell_type": "code",
   "execution_count": 80,
   "metadata": {},
   "outputs": [],
   "source": [
    "citi_201907_df = NY_07_df.append(JC_07_df, ignore_index = True) "
   ]
  },
  {
   "cell_type": "code",
   "execution_count": 81,
   "metadata": {},
   "outputs": [],
   "source": [
    "citi_201907_df['Random_integer'] = np.random.randint(0,100000,size=(len(citi_201907_df),1))"
   ]
  },
  {
   "cell_type": "code",
   "execution_count": 82,
   "metadata": {},
   "outputs": [],
   "source": [
    "citi_201907_df['mod10'] = citi_201907_df['Random_integer'] % 10"
   ]
  },
  {
   "cell_type": "code",
   "execution_count": 83,
   "metadata": {
    "scrolled": false
   },
   "outputs": [
    {
     "data": {
      "text/plain": [
       "4    223139\n",
       "5    222876\n",
       "3    222773\n",
       "9    222742\n",
       "0    222543\n",
       "2    222382\n",
       "1    222380\n",
       "7    222308\n",
       "8    221890\n",
       "6    221777\n",
       "Name: mod10, dtype: int64"
      ]
     },
     "execution_count": 83,
     "metadata": {},
     "output_type": "execute_result"
    }
   ],
   "source": [
    "citi_201907_df['mod10'].value_counts()"
   ]
  },
  {
   "cell_type": "code",
   "execution_count": 84,
   "metadata": {},
   "outputs": [],
   "source": [
    "sample_201907_df = citi_201907_df.loc[citi_201907_df[\"mod10\"] == 7]"
   ]
  },
  {
   "cell_type": "code",
   "execution_count": 85,
   "metadata": {},
   "outputs": [],
   "source": [
    "sample_201907_df.to_csv(\"Resources/sample_citi_201907.csv\", index=False)"
   ]
  },
  {
   "cell_type": "markdown",
   "metadata": {},
   "source": [
    "## August"
   ]
  },
  {
   "cell_type": "code",
   "execution_count": 86,
   "metadata": {},
   "outputs": [],
   "source": [
    "file_path = ('Resources/2019/JC-201908-citibike-tripdata.csv')\n",
    "JC_08_df = pd.read_csv(file_path)"
   ]
  },
  {
   "cell_type": "code",
   "execution_count": 87,
   "metadata": {},
   "outputs": [],
   "source": [
    "file_path = ('Resources/2019/201908-citibike-tripdata.csv')\n",
    "NY_08_df = pd.read_csv(file_path)"
   ]
  },
  {
   "cell_type": "code",
   "execution_count": 88,
   "metadata": {},
   "outputs": [],
   "source": [
    "citi_201908_df = NY_08_df.append(JC_08_df, ignore_index = True) "
   ]
  },
  {
   "cell_type": "code",
   "execution_count": 89,
   "metadata": {},
   "outputs": [],
   "source": [
    "citi_201908_df['Random_integer'] = np.random.randint(0,100000,size=(len(citi_201908_df),1))"
   ]
  },
  {
   "cell_type": "code",
   "execution_count": 90,
   "metadata": {},
   "outputs": [],
   "source": [
    "citi_201908_df['mod10'] = citi_201908_df['Random_integer'] % 10"
   ]
  },
  {
   "cell_type": "code",
   "execution_count": 91,
   "metadata": {
    "scrolled": false
   },
   "outputs": [
    {
     "data": {
      "text/plain": [
       "8    240120\n",
       "0    239716\n",
       "7    239402\n",
       "9    239390\n",
       "5    239269\n",
       "3    239209\n",
       "2    239163\n",
       "1    239096\n",
       "4    238962\n",
       "6    238608\n",
       "Name: mod10, dtype: int64"
      ]
     },
     "execution_count": 91,
     "metadata": {},
     "output_type": "execute_result"
    }
   ],
   "source": [
    "citi_201908_df['mod10'].value_counts()"
   ]
  },
  {
   "cell_type": "code",
   "execution_count": 92,
   "metadata": {},
   "outputs": [],
   "source": [
    "sample_201908_df = citi_201908_df.loc[citi_201908_df[\"mod10\"] == 7]"
   ]
  },
  {
   "cell_type": "code",
   "execution_count": 93,
   "metadata": {},
   "outputs": [],
   "source": [
    "sample_201908_df.to_csv(\"Resources/sample_citi_201908.csv\", index=False)"
   ]
  },
  {
   "cell_type": "markdown",
   "metadata": {},
   "source": [
    "## September"
   ]
  },
  {
   "cell_type": "code",
   "execution_count": 94,
   "metadata": {},
   "outputs": [],
   "source": [
    "file_path = ('Resources/2019/JC-201909-citibike-tripdata.csv')\n",
    "JC_09_df = pd.read_csv(file_path)"
   ]
  },
  {
   "cell_type": "code",
   "execution_count": 95,
   "metadata": {},
   "outputs": [],
   "source": [
    "file_path = ('Resources/2019/201909-citibike-tripdata.csv')\n",
    "NY_09_df = pd.read_csv(file_path)"
   ]
  },
  {
   "cell_type": "code",
   "execution_count": 96,
   "metadata": {},
   "outputs": [],
   "source": [
    "citi_201909_df = NY_09_df.append(JC_09_df, ignore_index = True) "
   ]
  },
  {
   "cell_type": "code",
   "execution_count": 97,
   "metadata": {},
   "outputs": [],
   "source": [
    "citi_201909_df['Random_integer'] = np.random.randint(0,100000,size=(len(citi_201909_df),1))"
   ]
  },
  {
   "cell_type": "code",
   "execution_count": 98,
   "metadata": {},
   "outputs": [],
   "source": [
    "citi_201909_df['mod10'] = citi_201909_df['Random_integer'] % 10"
   ]
  },
  {
   "cell_type": "code",
   "execution_count": 99,
   "metadata": {
    "scrolled": false
   },
   "outputs": [
    {
     "data": {
      "text/plain": [
       "4    249919\n",
       "2    249736\n",
       "7    249733\n",
       "3    249607\n",
       "5    249559\n",
       "0    249200\n",
       "9    249185\n",
       "6    249090\n",
       "8    249067\n",
       "1    249048\n",
       "Name: mod10, dtype: int64"
      ]
     },
     "execution_count": 99,
     "metadata": {},
     "output_type": "execute_result"
    }
   ],
   "source": [
    "citi_201909_df['mod10'].value_counts()"
   ]
  },
  {
   "cell_type": "code",
   "execution_count": 100,
   "metadata": {},
   "outputs": [],
   "source": [
    "sample_201909_df = citi_201909_df.loc[citi_201909_df[\"mod10\"] == 7]"
   ]
  },
  {
   "cell_type": "code",
   "execution_count": 101,
   "metadata": {},
   "outputs": [],
   "source": [
    "sample_201909_df.to_csv(\"Resources/sample_citi_201909.csv\", index=False)"
   ]
  },
  {
   "cell_type": "markdown",
   "metadata": {},
   "source": [
    "## October"
   ]
  },
  {
   "cell_type": "code",
   "execution_count": 102,
   "metadata": {},
   "outputs": [],
   "source": [
    "file_path = ('Resources/2019/JC-201910-citibike-tripdata.csv')\n",
    "JC_10_df = pd.read_csv(file_path)"
   ]
  },
  {
   "cell_type": "code",
   "execution_count": 103,
   "metadata": {},
   "outputs": [],
   "source": [
    "file_path = ('Resources/2019/201910-citibike-tripdata.csv')\n",
    "NY_10_df = pd.read_csv(file_path)"
   ]
  },
  {
   "cell_type": "code",
   "execution_count": 104,
   "metadata": {},
   "outputs": [],
   "source": [
    "citi_201910_df = NY_10_df.append(JC_10_df, ignore_index = True) "
   ]
  },
  {
   "cell_type": "code",
   "execution_count": 105,
   "metadata": {},
   "outputs": [],
   "source": [
    "citi_201910_df['Random_integer'] = np.random.randint(0,100000,size=(len(citi_201910_df),1))"
   ]
  },
  {
   "cell_type": "code",
   "execution_count": 106,
   "metadata": {},
   "outputs": [],
   "source": [
    "citi_201910_df['mod10'] = citi_201910_df['Random_integer'] % 10"
   ]
  },
  {
   "cell_type": "code",
   "execution_count": 107,
   "metadata": {
    "scrolled": false
   },
   "outputs": [
    {
     "data": {
      "text/plain": [
       "8    214133\n",
       "5    213705\n",
       "2    213704\n",
       "6    213568\n",
       "1    213447\n",
       "0    213367\n",
       "9    213315\n",
       "3    213293\n",
       "7    213277\n",
       "4    213017\n",
       "Name: mod10, dtype: int64"
      ]
     },
     "execution_count": 107,
     "metadata": {},
     "output_type": "execute_result"
    }
   ],
   "source": [
    "citi_201910_df['mod10'].value_counts()"
   ]
  },
  {
   "cell_type": "code",
   "execution_count": 108,
   "metadata": {},
   "outputs": [],
   "source": [
    "sample_201910_df = citi_201910_df.loc[citi_201910_df[\"mod10\"] == 7]"
   ]
  },
  {
   "cell_type": "code",
   "execution_count": 109,
   "metadata": {},
   "outputs": [],
   "source": [
    "sample_201910_df.to_csv(\"Resources/sample_citi_201910.csv\", index=False)"
   ]
  },
  {
   "cell_type": "markdown",
   "metadata": {},
   "source": [
    "## November"
   ]
  },
  {
   "cell_type": "code",
   "execution_count": 110,
   "metadata": {},
   "outputs": [],
   "source": [
    "file_path = ('Resources/2019/JC-201911-citibike-tripdata.csv')\n",
    "JC_11_df = pd.read_csv(file_path)"
   ]
  },
  {
   "cell_type": "code",
   "execution_count": 111,
   "metadata": {},
   "outputs": [],
   "source": [
    "file_path = ('Resources/2019/201911-citibike-tripdata.csv')\n",
    "NY_11_df = pd.read_csv(file_path)"
   ]
  },
  {
   "cell_type": "code",
   "execution_count": 112,
   "metadata": {},
   "outputs": [],
   "source": [
    "citi_201911_df = NY_11_df.append(JC_11_df, ignore_index = True) "
   ]
  },
  {
   "cell_type": "code",
   "execution_count": 113,
   "metadata": {},
   "outputs": [],
   "source": [
    "citi_201911_df['Random_integer'] = np.random.randint(0,100000,size=(len(citi_201911_df),1))"
   ]
  },
  {
   "cell_type": "code",
   "execution_count": 114,
   "metadata": {},
   "outputs": [],
   "source": [
    "citi_201911_df['mod10'] = citi_201911_df['Random_integer'] % 10"
   ]
  },
  {
   "cell_type": "code",
   "execution_count": 115,
   "metadata": {
    "scrolled": false
   },
   "outputs": [
    {
     "data": {
      "text/plain": [
       "5    152002\n",
       "9    151591\n",
       "2    151309\n",
       "0    151299\n",
       "6    151023\n",
       "7    150871\n",
       "4    150585\n",
       "8    150453\n",
       "3    150426\n",
       "1    149946\n",
       "Name: mod10, dtype: int64"
      ]
     },
     "execution_count": 115,
     "metadata": {},
     "output_type": "execute_result"
    }
   ],
   "source": [
    "citi_201911_df['mod10'].value_counts()"
   ]
  },
  {
   "cell_type": "code",
   "execution_count": 116,
   "metadata": {},
   "outputs": [],
   "source": [
    "sample_201911_df = citi_201911_df.loc[citi_201911_df[\"mod10\"] == 7]"
   ]
  },
  {
   "cell_type": "code",
   "execution_count": 117,
   "metadata": {},
   "outputs": [],
   "source": [
    "sample_201911_df.to_csv(\"Resources/sample_citi_201911.csv\", index=False)"
   ]
  },
  {
   "cell_type": "markdown",
   "metadata": {},
   "source": [
    "## December"
   ]
  },
  {
   "cell_type": "code",
   "execution_count": 118,
   "metadata": {},
   "outputs": [],
   "source": [
    "file_path = ('Resources/2019/JC-201912-citibike-tripdata.csv')\n",
    "JC_12_df = pd.read_csv(file_path)"
   ]
  },
  {
   "cell_type": "code",
   "execution_count": 119,
   "metadata": {},
   "outputs": [],
   "source": [
    "file_path = ('Resources/2019/201912-citibike-tripdata.csv')\n",
    "NY_12_df = pd.read_csv(file_path)"
   ]
  },
  {
   "cell_type": "code",
   "execution_count": 120,
   "metadata": {},
   "outputs": [],
   "source": [
    "citi_201912_df = NY_12_df.append(JC_12_df, ignore_index = True) "
   ]
  },
  {
   "cell_type": "code",
   "execution_count": 121,
   "metadata": {},
   "outputs": [],
   "source": [
    "citi_201912_df['Random_integer'] = np.random.randint(0,100000,size=(len(citi_201912_df),1))"
   ]
  },
  {
   "cell_type": "code",
   "execution_count": 122,
   "metadata": {},
   "outputs": [],
   "source": [
    "citi_201912_df['mod10'] = citi_201912_df['Random_integer'] % 10"
   ]
  },
  {
   "cell_type": "code",
   "execution_count": 123,
   "metadata": {
    "scrolled": false
   },
   "outputs": [
    {
     "data": {
      "text/plain": [
       "8    97997\n",
       "4    97780\n",
       "3    97723\n",
       "7    97682\n",
       "0    97367\n",
       "2    97337\n",
       "6    97309\n",
       "5    97296\n",
       "9    97244\n",
       "1    97203\n",
       "Name: mod10, dtype: int64"
      ]
     },
     "execution_count": 123,
     "metadata": {},
     "output_type": "execute_result"
    }
   ],
   "source": [
    "citi_201912_df['mod10'].value_counts()"
   ]
  },
  {
   "cell_type": "code",
   "execution_count": 124,
   "metadata": {},
   "outputs": [],
   "source": [
    "sample_201912_df = citi_201912_df.loc[citi_201912_df[\"mod10\"] == 7]"
   ]
  },
  {
   "cell_type": "code",
   "execution_count": 125,
   "metadata": {},
   "outputs": [],
   "source": [
    "sample_201912_df.to_csv(\"Resources/sample_citi_201912.csv\", index=False)"
   ]
  }
 ],
 "metadata": {
  "kernelspec": {
   "display_name": "Python 3",
   "language": "python",
   "name": "python3"
  },
  "language_info": {
   "codemirror_mode": {
    "name": "ipython",
    "version": 3
   },
   "file_extension": ".py",
   "mimetype": "text/x-python",
   "name": "python",
   "nbconvert_exporter": "python",
   "pygments_lexer": "ipython3",
   "version": "3.7.5"
  }
 },
 "nbformat": 4,
 "nbformat_minor": 2
}
