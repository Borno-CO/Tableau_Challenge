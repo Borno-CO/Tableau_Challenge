{
 "cells": [
  {
   "cell_type": "code",
   "execution_count": 236,
   "metadata": {},
   "outputs": [],
   "source": [
    "import pandas as pd\n",
    "import numpy as np"
   ]
  },
  {
   "cell_type": "markdown",
   "metadata": {},
   "source": [
    "## 2016"
   ]
  },
  {
   "cell_type": "markdown",
   "metadata": {},
   "source": [
    "### July 2016"
   ]
  },
  {
   "cell_type": "code",
   "execution_count": 237,
   "metadata": {},
   "outputs": [],
   "source": [
    "file_path = ('Resources/YearOverYear/JC-201607-citibike-tripdata.csv')\n",
    "JC_1607_df = pd.read_csv(file_path)"
   ]
  },
  {
   "cell_type": "code",
   "execution_count": 238,
   "metadata": {},
   "outputs": [],
   "source": [
    "file_path = ('Resources/YearOverYear/201607-citibike-tripdata.csv')\n",
    "NY_1607_df = pd.read_csv(file_path)"
   ]
  },
  {
   "cell_type": "code",
   "execution_count": 239,
   "metadata": {},
   "outputs": [],
   "source": [
    "JC_1607_df['Start Time'] = pd.to_datetime(JC_1607_df['Start Time'])\n",
    "JC_1607_df['Stop Time'] = pd.to_datetime(JC_1607_df['Stop Time'])\n",
    "NY_1607_df['starttime'] = pd.to_datetime(NY_1607_df['starttime'])\n",
    "NY_1607_df['stoptime'] = pd.to_datetime(NY_1607_df['stoptime'])"
   ]
  },
  {
   "cell_type": "code",
   "execution_count": 240,
   "metadata": {},
   "outputs": [],
   "source": [
    "JC_1607_df = JC_1607_df.rename(columns={\"Trip Duration\":\"tripduration\", \n",
    "                                          \"Start Time\":\"starttime\",\n",
    "                                          \"Stop Time\":\"stoptime\",\n",
    "                                          \"Start Station ID\":\"start station id\",\n",
    "                                          \"Start Station Name\":\"start station name\",\n",
    "                                          \"Start Station Latitude\":\"start station latitude\",\n",
    "                                          \"Start Station Longitude\":\"start station longitude\",\n",
    "                                          \"End Station ID\":\"end station id\",\n",
    "                                          \"End Station Name\":\"end station name\",\n",
    "                                          \"End Station Latitude\":\"end station latitude\",\n",
    "                                          \"End Station Longitude\":\"end station longitude\",\n",
    "                                          \"Bike ID\":\"bikeid\",\n",
    "                                          \"User Type\":\"usertype\",\n",
    "                                          \"Birth Year\":\"birth year\",\n",
    "                                          \"Gender\":\"gender\"})"
   ]
  },
  {
   "cell_type": "code",
   "execution_count": 241,
   "metadata": {},
   "outputs": [],
   "source": [
    "citi_201607_df = NY_1607_df.append(JC_1607_df, ignore_index = True) "
   ]
  },
  {
   "cell_type": "code",
   "execution_count": 242,
   "metadata": {},
   "outputs": [],
   "source": [
    "citi_201607_df['Random_integer'] = np.random.randint(0,100000,size=(len(citi_201607_df),1))"
   ]
  },
  {
   "cell_type": "code",
   "execution_count": 243,
   "metadata": {},
   "outputs": [],
   "source": [
    "citi_201607_df['mod10'] = citi_201607_df['Random_integer'] % 10"
   ]
  },
  {
   "cell_type": "code",
   "execution_count": 244,
   "metadata": {},
   "outputs": [
    {
     "data": {
      "text/plain": [
       "6    140971\n",
       "9    140920\n",
       "8    140872\n",
       "2    140448\n",
       "5    140304\n",
       "4    140299\n",
       "0    140282\n",
       "3    140276\n",
       "7    140186\n",
       "1    139988\n",
       "Name: mod10, dtype: int64"
      ]
     },
     "execution_count": 244,
     "metadata": {},
     "output_type": "execute_result"
    }
   ],
   "source": [
    "citi_201607_df['mod10'].value_counts()"
   ]
  },
  {
   "cell_type": "code",
   "execution_count": 245,
   "metadata": {},
   "outputs": [],
   "source": [
    "sample_201607_df = citi_201607_df.loc[citi_201607_df[\"mod10\"] == 7]"
   ]
  },
  {
   "cell_type": "code",
   "execution_count": 246,
   "metadata": {},
   "outputs": [],
   "source": [
    "sample_201607_df = sample_201607_df.drop('mod10', axis=1)\n",
    "sample_201607_df = sample_201607_df.drop('Random_integer', axis=1)"
   ]
  },
  {
   "cell_type": "code",
   "execution_count": 247,
   "metadata": {},
   "outputs": [],
   "source": [
    "sample_201607_df.to_csv(\"Resources/YOY_citi_201607.csv\", index=False)"
   ]
  },
  {
   "cell_type": "markdown",
   "metadata": {},
   "source": [
    "### August 2016"
   ]
  },
  {
   "cell_type": "code",
   "execution_count": 248,
   "metadata": {},
   "outputs": [],
   "source": [
    "file_path = ('Resources/YearOverYear/JC-201608-citibike-tripdata.csv')\n",
    "JC_1608_df = pd.read_csv(file_path)"
   ]
  },
  {
   "cell_type": "code",
   "execution_count": 249,
   "metadata": {},
   "outputs": [],
   "source": [
    "file_path = ('Resources/YearOverYear/201608-citibike-tripdata.csv')\n",
    "NY_1608_df = pd.read_csv(file_path)"
   ]
  },
  {
   "cell_type": "code",
   "execution_count": 250,
   "metadata": {},
   "outputs": [],
   "source": [
    "JC_1608_df['Start Time'] = pd.to_datetime(JC_1608_df['Start Time'])\n",
    "JC_1608_df['Stop Time'] = pd.to_datetime(JC_1608_df['Stop Time'])\n",
    "NY_1608_df['starttime'] = pd.to_datetime(NY_1608_df['starttime'])\n",
    "NY_1608_df['stoptime'] = pd.to_datetime(NY_1608_df['stoptime'])"
   ]
  },
  {
   "cell_type": "code",
   "execution_count": 251,
   "metadata": {},
   "outputs": [],
   "source": [
    "JC_1608_df = JC_1608_df.rename(columns={\"Trip Duration\":\"tripduration\", \n",
    "                                          \"Start Time\":\"starttime\",\n",
    "                                          \"Stop Time\":\"stoptime\",\n",
    "                                          \"Start Station ID\":\"start station id\",\n",
    "                                          \"Start Station Name\":\"start station name\",\n",
    "                                          \"Start Station Latitude\":\"start station latitude\",\n",
    "                                          \"Start Station Longitude\":\"start station longitude\",\n",
    "                                          \"End Station ID\":\"end station id\",\n",
    "                                          \"End Station Name\":\"end station name\",\n",
    "                                          \"End Station Latitude\":\"end station latitude\",\n",
    "                                          \"End Station Longitude\":\"end station longitude\",\n",
    "                                          \"Bike ID\":\"bikeid\",\n",
    "                                          \"User Type\":\"usertype\",\n",
    "                                          \"Birth Year\":\"birth year\",\n",
    "                                          \"Gender\":\"gender\"})"
   ]
  },
  {
   "cell_type": "code",
   "execution_count": 252,
   "metadata": {},
   "outputs": [],
   "source": [
    "citi_201608_df = NY_1608_df.append(JC_1608_df, ignore_index = True) "
   ]
  },
  {
   "cell_type": "code",
   "execution_count": 253,
   "metadata": {},
   "outputs": [],
   "source": [
    "citi_201608_df['Random_integer'] = np.random.randint(0,100000,size=(len(citi_201608_df),1))"
   ]
  },
  {
   "cell_type": "code",
   "execution_count": 254,
   "metadata": {},
   "outputs": [],
   "source": [
    "citi_201608_df['mod10'] = citi_201608_df['Random_integer'] % 10"
   ]
  },
  {
   "cell_type": "code",
   "execution_count": 255,
   "metadata": {},
   "outputs": [
    {
     "data": {
      "text/plain": [
       "6    159639\n",
       "0    159616\n",
       "9    159342\n",
       "4    159281\n",
       "3    159235\n",
       "2    159135\n",
       "5    159083\n",
       "7    159068\n",
       "8    158769\n",
       "1    158644\n",
       "Name: mod10, dtype: int64"
      ]
     },
     "execution_count": 255,
     "metadata": {},
     "output_type": "execute_result"
    }
   ],
   "source": [
    "citi_201608_df['mod10'].value_counts()"
   ]
  },
  {
   "cell_type": "code",
   "execution_count": 256,
   "metadata": {},
   "outputs": [],
   "source": [
    "sample_201608_df = citi_201608_df.loc[citi_201608_df[\"mod10\"] == 7]"
   ]
  },
  {
   "cell_type": "code",
   "execution_count": 257,
   "metadata": {},
   "outputs": [],
   "source": [
    "sample_201608_df = sample_201608_df.drop('mod10', axis=1)\n",
    "sample_201608_df = sample_201608_df.drop('Random_integer', axis=1)"
   ]
  },
  {
   "cell_type": "code",
   "execution_count": 258,
   "metadata": {},
   "outputs": [],
   "source": [
    "sample_201608_df.to_csv(\"Resources/YOY_citi_201608.csv\", index=False)"
   ]
  },
  {
   "cell_type": "markdown",
   "metadata": {},
   "source": [
    "### September 2016"
   ]
  },
  {
   "cell_type": "code",
   "execution_count": 259,
   "metadata": {},
   "outputs": [],
   "source": [
    "file_path = ('Resources/YearOverYear/JC-201609-citibike-tripdata.csv')\n",
    "JC_1609_df = pd.read_csv(file_path)"
   ]
  },
  {
   "cell_type": "code",
   "execution_count": 260,
   "metadata": {},
   "outputs": [],
   "source": [
    "file_path = ('Resources/YearOverYear/201609-citibike-tripdata.csv')\n",
    "NY_1609_df = pd.read_csv(file_path)"
   ]
  },
  {
   "cell_type": "code",
   "execution_count": 261,
   "metadata": {},
   "outputs": [],
   "source": [
    "JC_1609_df['Start Time'] = pd.to_datetime(JC_1609_df['Start Time'])\n",
    "JC_1609_df['Stop Time'] = pd.to_datetime(JC_1609_df['Stop Time'])\n",
    "NY_1609_df['starttime'] = pd.to_datetime(NY_1609_df['starttime'])\n",
    "NY_1609_df['stoptime'] = pd.to_datetime(NY_1609_df['stoptime'])"
   ]
  },
  {
   "cell_type": "code",
   "execution_count": 262,
   "metadata": {},
   "outputs": [],
   "source": [
    "JC_1609_df = JC_1609_df.rename(columns={\"Trip Duration\":\"tripduration\", \n",
    "                                          \"Start Time\":\"starttime\",\n",
    "                                          \"Stop Time\":\"stoptime\",\n",
    "                                          \"Start Station ID\":\"start station id\",\n",
    "                                          \"Start Station Name\":\"start station name\",\n",
    "                                          \"Start Station Latitude\":\"start station latitude\",\n",
    "                                          \"Start Station Longitude\":\"start station longitude\",\n",
    "                                          \"End Station ID\":\"end station id\",\n",
    "                                          \"End Station Name\":\"end station name\",\n",
    "                                          \"End Station Latitude\":\"end station latitude\",\n",
    "                                          \"End Station Longitude\":\"end station longitude\",\n",
    "                                          \"Bike ID\":\"bikeid\",\n",
    "                                          \"User Type\":\"usertype\",\n",
    "                                          \"Birth Year\":\"birth year\",\n",
    "                                          \"Gender\":\"gender\"})"
   ]
  },
  {
   "cell_type": "code",
   "execution_count": 263,
   "metadata": {},
   "outputs": [],
   "source": [
    "citi_201609_df = NY_1609_df.append(JC_1609_df, ignore_index = True) "
   ]
  },
  {
   "cell_type": "code",
   "execution_count": 264,
   "metadata": {},
   "outputs": [],
   "source": [
    "citi_201609_df['Random_integer'] = np.random.randint(0,100000,size=(len(citi_201609_df),1))"
   ]
  },
  {
   "cell_type": "code",
   "execution_count": 265,
   "metadata": {},
   "outputs": [],
   "source": [
    "citi_201609_df['mod10'] = citi_201609_df['Random_integer'] % 10"
   ]
  },
  {
   "cell_type": "code",
   "execution_count": 266,
   "metadata": {},
   "outputs": [
    {
     "data": {
      "text/plain": [
       "0    168601\n",
       "9    168553\n",
       "5    168429\n",
       "6    168350\n",
       "3    168199\n",
       "1    168138\n",
       "7    168121\n",
       "8    168044\n",
       "4    168011\n",
       "2    167835\n",
       "Name: mod10, dtype: int64"
      ]
     },
     "execution_count": 266,
     "metadata": {},
     "output_type": "execute_result"
    }
   ],
   "source": [
    "citi_201609_df['mod10'].value_counts()"
   ]
  },
  {
   "cell_type": "code",
   "execution_count": 267,
   "metadata": {},
   "outputs": [],
   "source": [
    "sample_201609_df = citi_201609_df.loc[citi_201609_df[\"mod10\"] == 7]"
   ]
  },
  {
   "cell_type": "code",
   "execution_count": 268,
   "metadata": {},
   "outputs": [],
   "source": [
    "sample_201609_df = sample_201609_df.drop('mod10', axis=1)\n",
    "sample_201609_df = sample_201609_df.drop('Random_integer', axis=1)"
   ]
  },
  {
   "cell_type": "code",
   "execution_count": 269,
   "metadata": {},
   "outputs": [],
   "source": [
    "sample_201609_df.to_csv(\"Resources/YOY_citi_201609.csv\", index=False)"
   ]
  },
  {
   "cell_type": "markdown",
   "metadata": {},
   "source": [
    "## 2017"
   ]
  },
  {
   "cell_type": "markdown",
   "metadata": {},
   "source": [
    "### July 2017"
   ]
  },
  {
   "cell_type": "code",
   "execution_count": 270,
   "metadata": {},
   "outputs": [],
   "source": [
    "file_path = ('Resources/YearOverYear/JC-201707-citibike-tripdata.csv')\n",
    "JC_1707_df = pd.read_csv(file_path)"
   ]
  },
  {
   "cell_type": "code",
   "execution_count": 271,
   "metadata": {},
   "outputs": [],
   "source": [
    "file_path = ('Resources/YearOverYear/201707-citibike-tripdata.csv')\n",
    "NY_1707_df = pd.read_csv(file_path)"
   ]
  },
  {
   "cell_type": "code",
   "execution_count": 272,
   "metadata": {},
   "outputs": [],
   "source": [
    "JC_1707_df['starttime'] = pd.to_datetime(JC_1707_df['starttime'])\n",
    "JC_1707_df['stoptime'] = pd.to_datetime(JC_1707_df['stoptime'])\n",
    "NY_1707_df['starttime'] = pd.to_datetime(NY_1707_df['starttime'])\n",
    "NY_1707_df['stoptime'] = pd.to_datetime(NY_1707_df['stoptime'])"
   ]
  },
  {
   "cell_type": "code",
   "execution_count": 273,
   "metadata": {},
   "outputs": [],
   "source": [
    "citi_201707_df = NY_1707_df.append(JC_1707_df, ignore_index = True) "
   ]
  },
  {
   "cell_type": "code",
   "execution_count": 274,
   "metadata": {},
   "outputs": [],
   "source": [
    "citi_201707_df['Random_integer'] = np.random.randint(0,100000,size=(len(citi_201707_df),1))"
   ]
  },
  {
   "cell_type": "code",
   "execution_count": 275,
   "metadata": {},
   "outputs": [],
   "source": [
    "citi_201707_df['mod10'] = citi_201707_df['Random_integer'] % 10"
   ]
  },
  {
   "cell_type": "code",
   "execution_count": 276,
   "metadata": {},
   "outputs": [
    {
     "data": {
      "text/plain": [
       "0    178260\n",
       "5    177232\n",
       "3    177013\n",
       "7    176996\n",
       "8    176959\n",
       "1    176860\n",
       "9    176789\n",
       "6    176524\n",
       "4    176323\n",
       "2    176216\n",
       "Name: mod10, dtype: int64"
      ]
     },
     "execution_count": 276,
     "metadata": {},
     "output_type": "execute_result"
    }
   ],
   "source": [
    "citi_201707_df['mod10'].value_counts()"
   ]
  },
  {
   "cell_type": "code",
   "execution_count": 277,
   "metadata": {},
   "outputs": [],
   "source": [
    "sample_201707_df = citi_201707_df.loc[citi_201707_df[\"mod10\"] == 7]"
   ]
  },
  {
   "cell_type": "code",
   "execution_count": 278,
   "metadata": {},
   "outputs": [],
   "source": [
    "sample_201707_df = sample_201707_df.drop('mod10', axis=1)\n",
    "sample_201707_df = sample_201707_df.drop('Random_integer', axis=1)"
   ]
  },
  {
   "cell_type": "code",
   "execution_count": 279,
   "metadata": {},
   "outputs": [],
   "source": [
    "sample_201707_df.to_csv(\"Resources/YOY_citi_201707.csv\", index=False)"
   ]
  },
  {
   "cell_type": "markdown",
   "metadata": {},
   "source": [
    "### August 2017"
   ]
  },
  {
   "cell_type": "code",
   "execution_count": 280,
   "metadata": {
    "scrolled": true
   },
   "outputs": [],
   "source": [
    "file_path = ('Resources/YearOverYear/JC-201708-citibike-tripdata.csv')\n",
    "JC_1708_df = pd.read_csv(file_path)"
   ]
  },
  {
   "cell_type": "code",
   "execution_count": 281,
   "metadata": {},
   "outputs": [],
   "source": [
    "file_path = ('Resources/YearOverYear/201708-citibike-tripdata.csv')\n",
    "NY_1708_df = pd.read_csv(file_path)"
   ]
  },
  {
   "cell_type": "code",
   "execution_count": 282,
   "metadata": {},
   "outputs": [],
   "source": [
    "JC_1708_df['starttime'] = pd.to_datetime(JC_1708_df['starttime'])\n",
    "JC_1708_df['stoptime'] = pd.to_datetime(JC_1708_df['stoptime'])\n",
    "NY_1708_df['starttime'] = pd.to_datetime(NY_1708_df['starttime'])\n",
    "NY_1708_df['stoptime'] = pd.to_datetime(NY_1708_df['stoptime'])"
   ]
  },
  {
   "cell_type": "code",
   "execution_count": 283,
   "metadata": {},
   "outputs": [],
   "source": [
    "citi_201708_df = NY_1708_df.append(JC_1708_df, ignore_index = True) "
   ]
  },
  {
   "cell_type": "code",
   "execution_count": 284,
   "metadata": {},
   "outputs": [],
   "source": [
    "citi_201708_df['Random_integer'] = np.random.randint(0,100000,size=(len(citi_201708_df),1))"
   ]
  },
  {
   "cell_type": "code",
   "execution_count": 285,
   "metadata": {},
   "outputs": [],
   "source": [
    "citi_201708_df['mod10'] = citi_201708_df['Random_integer'] % 10"
   ]
  },
  {
   "cell_type": "code",
   "execution_count": 286,
   "metadata": {},
   "outputs": [
    {
     "data": {
      "text/plain": [
       "3    185495\n",
       "1    185493\n",
       "2    185378\n",
       "9    185227\n",
       "5    185188\n",
       "8    185180\n",
       "0    185128\n",
       "6    185115\n",
       "7    184896\n",
       "4    184870\n",
       "Name: mod10, dtype: int64"
      ]
     },
     "execution_count": 286,
     "metadata": {},
     "output_type": "execute_result"
    }
   ],
   "source": [
    "citi_201708_df['mod10'].value_counts()"
   ]
  },
  {
   "cell_type": "code",
   "execution_count": 287,
   "metadata": {},
   "outputs": [],
   "source": [
    "sample_201708_df = citi_201708_df.loc[citi_201708_df[\"mod10\"] == 7]"
   ]
  },
  {
   "cell_type": "code",
   "execution_count": 288,
   "metadata": {},
   "outputs": [],
   "source": [
    "sample_201708_df = sample_201708_df.drop('mod10', axis=1)\n",
    "sample_201708_df = sample_201708_df.drop('Random_integer', axis=1)"
   ]
  },
  {
   "cell_type": "code",
   "execution_count": 289,
   "metadata": {},
   "outputs": [],
   "source": [
    "sample_201708_df.to_csv(\"Resources/YOY_citi_201708.csv\", index=False)"
   ]
  },
  {
   "cell_type": "markdown",
   "metadata": {},
   "source": [
    "### September 2017"
   ]
  },
  {
   "cell_type": "code",
   "execution_count": 290,
   "metadata": {},
   "outputs": [],
   "source": [
    "file_path = ('Resources/YearOverYear/JC-201709-citibike-tripdata.csv')\n",
    "JC_1709_df = pd.read_csv(file_path)"
   ]
  },
  {
   "cell_type": "code",
   "execution_count": 291,
   "metadata": {},
   "outputs": [],
   "source": [
    "file_path = ('Resources/YearOverYear/201709-citibike-tripdata.csv')\n",
    "NY_1709_df = pd.read_csv(file_path)"
   ]
  },
  {
   "cell_type": "code",
   "execution_count": 292,
   "metadata": {},
   "outputs": [],
   "source": [
    "JC_1709_df['starttime'] = pd.to_datetime(JC_1709_df['starttime'])\n",
    "JC_1709_df['stoptime'] = pd.to_datetime(JC_1709_df['stoptime'])\n",
    "NY_1709_df['starttime'] = pd.to_datetime(NY_1709_df['starttime'])\n",
    "NY_1709_df['stoptime'] = pd.to_datetime(NY_1709_df['stoptime'])"
   ]
  },
  {
   "cell_type": "code",
   "execution_count": 293,
   "metadata": {},
   "outputs": [],
   "source": [
    "citi_201709_df = NY_1709_df.append(JC_1709_df, ignore_index = True) "
   ]
  },
  {
   "cell_type": "code",
   "execution_count": 294,
   "metadata": {},
   "outputs": [],
   "source": [
    "citi_201709_df['Random_integer'] = np.random.randint(0,100000,size=(len(citi_201709_df),1))"
   ]
  },
  {
   "cell_type": "code",
   "execution_count": 295,
   "metadata": {},
   "outputs": [],
   "source": [
    "citi_201709_df['mod10'] = citi_201709_df['Random_integer'] % 10"
   ]
  },
  {
   "cell_type": "code",
   "execution_count": 296,
   "metadata": {},
   "outputs": [
    {
     "data": {
      "text/plain": [
       "8    192084\n",
       "6    191891\n",
       "1    191575\n",
       "2    191342\n",
       "5    191205\n",
       "7    191198\n",
       "3    190877\n",
       "9    190480\n",
       "4    190456\n",
       "0    190109\n",
       "Name: mod10, dtype: int64"
      ]
     },
     "execution_count": 296,
     "metadata": {},
     "output_type": "execute_result"
    }
   ],
   "source": [
    "citi_201709_df['mod10'].value_counts()"
   ]
  },
  {
   "cell_type": "code",
   "execution_count": 297,
   "metadata": {},
   "outputs": [],
   "source": [
    "sample_201709_df = citi_201709_df.loc[citi_201709_df[\"mod10\"] == 7]"
   ]
  },
  {
   "cell_type": "code",
   "execution_count": 298,
   "metadata": {},
   "outputs": [],
   "source": [
    "sample_201709_df = sample_201709_df.drop('mod10', axis=1)\n",
    "sample_201709_df = sample_201709_df.drop('Random_integer', axis=1)"
   ]
  },
  {
   "cell_type": "code",
   "execution_count": 299,
   "metadata": {},
   "outputs": [],
   "source": [
    "sample_201709_df.to_csv(\"Resources/YOY_citi_201709.csv\", index=False)"
   ]
  },
  {
   "cell_type": "markdown",
   "metadata": {},
   "source": [
    "## 2018"
   ]
  },
  {
   "cell_type": "markdown",
   "metadata": {},
   "source": [
    "### July 2018"
   ]
  },
  {
   "cell_type": "code",
   "execution_count": 300,
   "metadata": {},
   "outputs": [],
   "source": [
    "file_path = ('Resources/YearOverYear/JC-201807-citibike-tripdata.csv')\n",
    "JC_1807_df = pd.read_csv(file_path)"
   ]
  },
  {
   "cell_type": "code",
   "execution_count": 301,
   "metadata": {},
   "outputs": [],
   "source": [
    "file_path = ('Resources/YearOverYear/201807-citibike-tripdata.csv')\n",
    "NY_1807_df = pd.read_csv(file_path)"
   ]
  },
  {
   "cell_type": "code",
   "execution_count": 302,
   "metadata": {},
   "outputs": [],
   "source": [
    "JC_1807_df['starttime'] = pd.to_datetime(JC_1807_df['starttime'])\n",
    "JC_1807_df['stoptime'] = pd.to_datetime(JC_1807_df['stoptime'])\n",
    "NY_1807_df['starttime'] = pd.to_datetime(NY_1807_df['starttime'])\n",
    "NY_1807_df['stoptime'] = pd.to_datetime(NY_1807_df['stoptime'])"
   ]
  },
  {
   "cell_type": "code",
   "execution_count": 303,
   "metadata": {},
   "outputs": [],
   "source": [
    "citi_201807_df = NY_1807_df.append(JC_1807_df, ignore_index = True) "
   ]
  },
  {
   "cell_type": "code",
   "execution_count": 304,
   "metadata": {},
   "outputs": [],
   "source": [
    "citi_201807_df['Random_integer'] = np.random.randint(0,100000,size=(len(citi_201807_df),1))"
   ]
  },
  {
   "cell_type": "code",
   "execution_count": 305,
   "metadata": {},
   "outputs": [],
   "source": [
    "citi_201807_df['mod10'] = citi_201807_df['Random_integer'] % 10"
   ]
  },
  {
   "cell_type": "code",
   "execution_count": 306,
   "metadata": {},
   "outputs": [
    {
     "data": {
      "text/plain": [
       "1    196197\n",
       "7    195971\n",
       "5    195940\n",
       "3    195713\n",
       "8    195703\n",
       "6    195562\n",
       "0    195536\n",
       "9    195143\n",
       "4    195126\n",
       "2    195002\n",
       "Name: mod10, dtype: int64"
      ]
     },
     "execution_count": 306,
     "metadata": {},
     "output_type": "execute_result"
    }
   ],
   "source": [
    "citi_201807_df['mod10'].value_counts()"
   ]
  },
  {
   "cell_type": "code",
   "execution_count": 307,
   "metadata": {},
   "outputs": [],
   "source": [
    "sample_201807_df = citi_201807_df.loc[citi_201807_df[\"mod10\"] == 7]"
   ]
  },
  {
   "cell_type": "code",
   "execution_count": 308,
   "metadata": {},
   "outputs": [],
   "source": [
    "sample_201807_df = sample_201807_df.drop('mod10', axis=1)\n",
    "sample_201807_df = sample_201807_df.drop('Random_integer', axis=1)"
   ]
  },
  {
   "cell_type": "code",
   "execution_count": 309,
   "metadata": {},
   "outputs": [],
   "source": [
    "sample_201807_df.to_csv(\"Resources/YOY_citi_201807.csv\", index=False)"
   ]
  },
  {
   "cell_type": "markdown",
   "metadata": {},
   "source": [
    "### August 2018"
   ]
  },
  {
   "cell_type": "code",
   "execution_count": 310,
   "metadata": {},
   "outputs": [],
   "source": [
    "file_path = ('Resources/YearOverYear/JC-201808-citibike-tripdata.csv')\n",
    "JC_1808_df = pd.read_csv(file_path)"
   ]
  },
  {
   "cell_type": "code",
   "execution_count": 311,
   "metadata": {},
   "outputs": [],
   "source": [
    "file_path = ('Resources/YearOverYear/201808-citibike-tripdata.csv')\n",
    "NY_1808_df = pd.read_csv(file_path)"
   ]
  },
  {
   "cell_type": "code",
   "execution_count": 312,
   "metadata": {},
   "outputs": [],
   "source": [
    "JC_1808_df['starttime'] = pd.to_datetime(JC_1808_df['starttime'])\n",
    "JC_1808_df['stoptime'] = pd.to_datetime(JC_1808_df['stoptime'])\n",
    "NY_1808_df['starttime'] = pd.to_datetime(NY_1808_df['starttime'])\n",
    "NY_1808_df['stoptime'] = pd.to_datetime(NY_1808_df['stoptime'])"
   ]
  },
  {
   "cell_type": "code",
   "execution_count": 313,
   "metadata": {},
   "outputs": [],
   "source": [
    "citi_201808_df = NY_1808_df.append(JC_1808_df, ignore_index = True) "
   ]
  },
  {
   "cell_type": "code",
   "execution_count": 314,
   "metadata": {},
   "outputs": [],
   "source": [
    "citi_201808_df['Random_integer'] = np.random.randint(0,100000,size=(len(citi_201808_df),1))"
   ]
  },
  {
   "cell_type": "code",
   "execution_count": 315,
   "metadata": {},
   "outputs": [],
   "source": [
    "citi_201808_df['mod10'] = citi_201808_df['Random_integer'] % 10"
   ]
  },
  {
   "cell_type": "code",
   "execution_count": 316,
   "metadata": {},
   "outputs": [
    {
     "data": {
      "text/plain": [
       "3    202710\n",
       "8    202678\n",
       "0    202634\n",
       "7    202560\n",
       "4    202266\n",
       "9    202176\n",
       "5    202110\n",
       "1    201813\n",
       "2    201484\n",
       "6    201178\n",
       "Name: mod10, dtype: int64"
      ]
     },
     "execution_count": 316,
     "metadata": {},
     "output_type": "execute_result"
    }
   ],
   "source": [
    "citi_201808_df['mod10'].value_counts()"
   ]
  },
  {
   "cell_type": "code",
   "execution_count": 317,
   "metadata": {},
   "outputs": [],
   "source": [
    "sample_201808_df = citi_201808_df.loc[citi_201808_df[\"mod10\"] == 7]"
   ]
  },
  {
   "cell_type": "code",
   "execution_count": 318,
   "metadata": {},
   "outputs": [],
   "source": [
    "sample_201808_df = sample_201808_df.drop('mod10', axis=1)\n",
    "sample_201808_df = sample_201808_df.drop('Random_integer', axis=1)"
   ]
  },
  {
   "cell_type": "code",
   "execution_count": 319,
   "metadata": {},
   "outputs": [],
   "source": [
    "sample_201808_df.to_csv(\"Resources/YOY_citi_201808.csv\", index=False)"
   ]
  },
  {
   "cell_type": "markdown",
   "metadata": {},
   "source": [
    "### September 2018"
   ]
  },
  {
   "cell_type": "code",
   "execution_count": 320,
   "metadata": {},
   "outputs": [],
   "source": [
    "file_path = ('Resources/YearOverYear/JC-201809-citibike-tripdata.csv')\n",
    "JC_1809_df = pd.read_csv(file_path)"
   ]
  },
  {
   "cell_type": "code",
   "execution_count": 321,
   "metadata": {},
   "outputs": [],
   "source": [
    "file_path = ('Resources/YearOverYear/201809-citibike-tripdata.csv')\n",
    "NY_1809_df = pd.read_csv(file_path)"
   ]
  },
  {
   "cell_type": "code",
   "execution_count": 322,
   "metadata": {},
   "outputs": [],
   "source": [
    "JC_1809_df['starttime'] = pd.to_datetime(JC_1809_df['starttime'])\n",
    "JC_1809_df['stoptime'] = pd.to_datetime(JC_1809_df['stoptime'])\n",
    "NY_1809_df['starttime'] = pd.to_datetime(NY_1809_df['starttime'])\n",
    "NY_1809_df['stoptime'] = pd.to_datetime(NY_1809_df['stoptime'])"
   ]
  },
  {
   "cell_type": "code",
   "execution_count": 323,
   "metadata": {},
   "outputs": [],
   "source": [
    "citi_201809_df = NY_1809_df.append(JC_1809_df, ignore_index = True) "
   ]
  },
  {
   "cell_type": "code",
   "execution_count": 324,
   "metadata": {},
   "outputs": [],
   "source": [
    "citi_201809_df['Random_integer'] = np.random.randint(0,100000,size=(len(citi_201809_df),1))"
   ]
  },
  {
   "cell_type": "code",
   "execution_count": 325,
   "metadata": {},
   "outputs": [],
   "source": [
    "citi_201809_df['mod10'] = citi_201809_df['Random_integer'] % 10"
   ]
  },
  {
   "cell_type": "code",
   "execution_count": 326,
   "metadata": {},
   "outputs": [
    {
     "data": {
      "text/plain": [
       "5    192171\n",
       "0    192020\n",
       "9    191825\n",
       "2    191686\n",
       "4    191670\n",
       "3    191625\n",
       "1    191565\n",
       "7    191475\n",
       "8    191464\n",
       "6    191405\n",
       "Name: mod10, dtype: int64"
      ]
     },
     "execution_count": 326,
     "metadata": {},
     "output_type": "execute_result"
    }
   ],
   "source": [
    "citi_201809_df['mod10'].value_counts()"
   ]
  },
  {
   "cell_type": "code",
   "execution_count": 327,
   "metadata": {},
   "outputs": [],
   "source": [
    "sample_201809_df = citi_201809_df.loc[citi_201809_df[\"mod10\"] == 7]"
   ]
  },
  {
   "cell_type": "code",
   "execution_count": 328,
   "metadata": {},
   "outputs": [],
   "source": [
    "sample_201809_df = sample_201809_df.drop('mod10', axis=1)\n",
    "sample_201809_df = sample_201809_df.drop('Random_integer', axis=1)"
   ]
  },
  {
   "cell_type": "code",
   "execution_count": 329,
   "metadata": {},
   "outputs": [],
   "source": [
    "sample_201809_df.to_csv(\"Resources/YOY_citi_201809.csv\", index=False)"
   ]
  },
  {
   "cell_type": "markdown",
   "metadata": {},
   "source": [
    "## 2019"
   ]
  },
  {
   "cell_type": "markdown",
   "metadata": {},
   "source": [
    "### July 2019"
   ]
  },
  {
   "cell_type": "code",
   "execution_count": 330,
   "metadata": {},
   "outputs": [],
   "source": [
    "file_path = ('Resources/YearOverYear/JC-201907-citibike-tripdata.csv')\n",
    "JC_1907_df = pd.read_csv(file_path)"
   ]
  },
  {
   "cell_type": "code",
   "execution_count": 331,
   "metadata": {},
   "outputs": [],
   "source": [
    "file_path = ('Resources/YearOverYear/201907-citibike-tripdata.csv')\n",
    "NY_1907_df = pd.read_csv(file_path)"
   ]
  },
  {
   "cell_type": "code",
   "execution_count": 332,
   "metadata": {},
   "outputs": [],
   "source": [
    "JC_1907_df['starttime'] = pd.to_datetime(JC_1907_df['starttime'])\n",
    "JC_1907_df['stoptime'] = pd.to_datetime(JC_1907_df['stoptime'])\n",
    "NY_1907_df['starttime'] = pd.to_datetime(NY_1907_df['starttime'])\n",
    "NY_1907_df['stoptime'] = pd.to_datetime(NY_1907_df['stoptime'])"
   ]
  },
  {
   "cell_type": "code",
   "execution_count": 333,
   "metadata": {},
   "outputs": [],
   "source": [
    "citi_201907_df = NY_1907_df.append(JC_1907_df, ignore_index = True) "
   ]
  },
  {
   "cell_type": "code",
   "execution_count": 334,
   "metadata": {},
   "outputs": [],
   "source": [
    "citi_201907_df['Random_integer'] = np.random.randint(0,100000,size=(len(citi_201907_df),1))"
   ]
  },
  {
   "cell_type": "code",
   "execution_count": 335,
   "metadata": {},
   "outputs": [],
   "source": [
    "citi_201907_df['mod10'] = citi_201907_df['Random_integer'] % 10"
   ]
  },
  {
   "cell_type": "code",
   "execution_count": 336,
   "metadata": {},
   "outputs": [
    {
     "data": {
      "text/plain": [
       "2    223168\n",
       "8    222744\n",
       "4    222670\n",
       "9    222605\n",
       "6    222598\n",
       "0    222313\n",
       "5    222252\n",
       "1    222219\n",
       "7    222124\n",
       "3    222117\n",
       "Name: mod10, dtype: int64"
      ]
     },
     "execution_count": 336,
     "metadata": {},
     "output_type": "execute_result"
    }
   ],
   "source": [
    "citi_201907_df['mod10'].value_counts()"
   ]
  },
  {
   "cell_type": "code",
   "execution_count": 337,
   "metadata": {},
   "outputs": [],
   "source": [
    "sample_201907_df = citi_201907_df.loc[citi_201907_df[\"mod10\"] == 7]"
   ]
  },
  {
   "cell_type": "code",
   "execution_count": 338,
   "metadata": {},
   "outputs": [],
   "source": [
    "sample_201907_df = sample_201907_df.drop('mod10', axis=1)\n",
    "sample_201907_df = sample_201907_df.drop('Random_integer', axis=1)"
   ]
  },
  {
   "cell_type": "code",
   "execution_count": 339,
   "metadata": {},
   "outputs": [],
   "source": [
    "sample_201907_df.to_csv(\"Resources/YOY_citi_201907.csv\", index=False)"
   ]
  },
  {
   "cell_type": "markdown",
   "metadata": {},
   "source": [
    "### August 2019"
   ]
  },
  {
   "cell_type": "code",
   "execution_count": 340,
   "metadata": {},
   "outputs": [],
   "source": [
    "file_path = ('Resources/YearOverYear/JC-201908-citibike-tripdata.csv')\n",
    "JC_1908_df = pd.read_csv(file_path)"
   ]
  },
  {
   "cell_type": "code",
   "execution_count": 341,
   "metadata": {},
   "outputs": [],
   "source": [
    "file_path = ('Resources/YearOverYear/201908-citibike-tripdata.csv')\n",
    "NY_1908_df = pd.read_csv(file_path)"
   ]
  },
  {
   "cell_type": "code",
   "execution_count": 342,
   "metadata": {},
   "outputs": [],
   "source": [
    "JC_1908_df['starttime'] = pd.to_datetime(JC_1908_df['starttime'])\n",
    "JC_1908_df['stoptime'] = pd.to_datetime(JC_1908_df['stoptime'])\n",
    "NY_1908_df['starttime'] = pd.to_datetime(NY_1908_df['starttime'])\n",
    "NY_1908_df['stoptime'] = pd.to_datetime(NY_1908_df['stoptime'])"
   ]
  },
  {
   "cell_type": "code",
   "execution_count": 343,
   "metadata": {},
   "outputs": [],
   "source": [
    "citi_201908_df = NY_1908_df.append(JC_1908_df, ignore_index = True) "
   ]
  },
  {
   "cell_type": "code",
   "execution_count": 344,
   "metadata": {},
   "outputs": [],
   "source": [
    "citi_201908_df['Random_integer'] = np.random.randint(0,100000,size=(len(citi_201908_df),1))"
   ]
  },
  {
   "cell_type": "code",
   "execution_count": 345,
   "metadata": {},
   "outputs": [],
   "source": [
    "citi_201908_df['mod10'] = citi_201908_df['Random_integer'] % 10"
   ]
  },
  {
   "cell_type": "code",
   "execution_count": 346,
   "metadata": {},
   "outputs": [
    {
     "data": {
      "text/plain": [
       "7    240177\n",
       "5    239811\n",
       "2    239654\n",
       "0    239469\n",
       "8    239452\n",
       "3    239181\n",
       "6    239003\n",
       "4    238882\n",
       "1    238785\n",
       "9    238521\n",
       "Name: mod10, dtype: int64"
      ]
     },
     "execution_count": 346,
     "metadata": {},
     "output_type": "execute_result"
    }
   ],
   "source": [
    "citi_201908_df['mod10'].value_counts()"
   ]
  },
  {
   "cell_type": "code",
   "execution_count": 347,
   "metadata": {},
   "outputs": [],
   "source": [
    "sample_201908_df = citi_201908_df.loc[citi_201908_df[\"mod10\"] == 7]"
   ]
  },
  {
   "cell_type": "code",
   "execution_count": 348,
   "metadata": {},
   "outputs": [],
   "source": [
    "sample_201908_df = sample_201908_df.drop('mod10', axis=1)\n",
    "sample_201908_df = sample_201908_df.drop('Random_integer', axis=1)"
   ]
  },
  {
   "cell_type": "code",
   "execution_count": 349,
   "metadata": {},
   "outputs": [],
   "source": [
    "sample_201908_df.to_csv(\"Resources/YOY_citi_201908.csv\", index=False)"
   ]
  },
  {
   "cell_type": "markdown",
   "metadata": {},
   "source": [
    "### September 2019"
   ]
  },
  {
   "cell_type": "code",
   "execution_count": 350,
   "metadata": {},
   "outputs": [],
   "source": [
    "file_path = ('Resources/YearOverYear/JC-201909-citibike-tripdata.csv')\n",
    "JC_1909_df = pd.read_csv(file_path)"
   ]
  },
  {
   "cell_type": "code",
   "execution_count": 351,
   "metadata": {},
   "outputs": [],
   "source": [
    "file_path = ('Resources/YearOverYear/201909-citibike-tripdata.csv')\n",
    "NY_1909_df = pd.read_csv(file_path)"
   ]
  },
  {
   "cell_type": "code",
   "execution_count": 352,
   "metadata": {},
   "outputs": [],
   "source": [
    "JC_1909_df['starttime'] = pd.to_datetime(JC_1909_df['starttime'])\n",
    "JC_1909_df['stoptime'] = pd.to_datetime(JC_1909_df['stoptime'])\n",
    "NY_1909_df['starttime'] = pd.to_datetime(NY_1909_df['starttime'])\n",
    "NY_1909_df['stoptime'] = pd.to_datetime(NY_1909_df['stoptime'])"
   ]
  },
  {
   "cell_type": "code",
   "execution_count": 353,
   "metadata": {},
   "outputs": [],
   "source": [
    "citi_201909_df = NY_1909_df.append(JC_1909_df, ignore_index = True) "
   ]
  },
  {
   "cell_type": "code",
   "execution_count": 354,
   "metadata": {},
   "outputs": [],
   "source": [
    "citi_201909_df['Random_integer'] = np.random.randint(0,100000,size=(len(citi_201909_df),1))"
   ]
  },
  {
   "cell_type": "code",
   "execution_count": 355,
   "metadata": {},
   "outputs": [],
   "source": [
    "citi_201909_df['mod10'] = citi_201909_df['Random_integer'] % 10"
   ]
  },
  {
   "cell_type": "code",
   "execution_count": 356,
   "metadata": {},
   "outputs": [
    {
     "data": {
      "text/plain": [
       "9    250003\n",
       "1    249986\n",
       "3    249915\n",
       "2    249833\n",
       "8    249520\n",
       "7    249282\n",
       "4    249217\n",
       "5    249153\n",
       "6    249087\n",
       "0    248148\n",
       "Name: mod10, dtype: int64"
      ]
     },
     "execution_count": 356,
     "metadata": {},
     "output_type": "execute_result"
    }
   ],
   "source": [
    "citi_201909_df['mod10'].value_counts()"
   ]
  },
  {
   "cell_type": "code",
   "execution_count": 357,
   "metadata": {},
   "outputs": [],
   "source": [
    "sample_201909_df = citi_201909_df.loc[citi_201909_df[\"mod10\"] == 7]"
   ]
  },
  {
   "cell_type": "code",
   "execution_count": 358,
   "metadata": {},
   "outputs": [],
   "source": [
    "sample_201909_df = sample_201909_df.drop('mod10', axis=1)\n",
    "sample_201909_df = sample_201909_df.drop('Random_integer', axis=1)"
   ]
  },
  {
   "cell_type": "code",
   "execution_count": 359,
   "metadata": {},
   "outputs": [],
   "source": [
    "sample_201909_df.to_csv(\"Resources/YOY_citi_201909.csv\", index=False)"
   ]
  }
 ],
 "metadata": {
  "kernelspec": {
   "display_name": "Python 3",
   "language": "python",
   "name": "python3"
  },
  "language_info": {
   "codemirror_mode": {
    "name": "ipython",
    "version": 3
   },
   "file_extension": ".py",
   "mimetype": "text/x-python",
   "name": "python",
   "nbconvert_exporter": "python",
   "pygments_lexer": "ipython3",
   "version": "3.7.5"
  }
 },
 "nbformat": 4,
 "nbformat_minor": 2
}
